{
 "cells": [
  {
   "cell_type": "code",
   "execution_count": 36,
   "metadata": {},
   "outputs": [],
   "source": [
    "from itertools import permutations\n",
    "from collections import Counter\n",
    "from copy import deepcopy"
   ]
  },
  {
   "cell_type": "code",
   "execution_count": 37,
   "metadata": {},
   "outputs": [],
   "source": [
    "def devide_num_command(expression):\n",
    "    commands = [\"*\",\"+\",\"-\"]\n",
    "    command_list = []\n",
    "    number_list = []\n",
    "    tmp = \"\"\n",
    "    for i in expression:\n",
    "        if i in commands:\n",
    "            command_list.append(i)\n",
    "            number_list.append(tmp)\n",
    "            tmp = \"\"\n",
    "        else:\n",
    "            tmp += i\n",
    "    number_list.append(tmp)\n",
    "    return number_list,command_list"
   ]
  },
  {
   "cell_type": "code",
   "execution_count": 38,
   "metadata": {},
   "outputs": [],
   "source": [
    "def solution(expression):\n",
    "    answer = 0\n",
    "    number_list,command_list = devide_num_command(expression)\n",
    "    commands = Counter(command_list).keys()\n",
    "    # print(commands)\n",
    "    priority_list = list(permutations(commands,len(commands)))\n",
    "    for i in priority_list:\n",
    "        # print(i)\n",
    "        tmp_number_list = deepcopy(number_list)\n",
    "        tmp_command_list = deepcopy(command_list)\n",
    "        result_pri = returns_per_priority(i,tmp_number_list,tmp_command_list)\n",
    "        if result_pri > answer:\n",
    "            answer = result_pri\n",
    "        \n",
    "    # print(priority_list)\n",
    "    return answer"
   ]
  },
  {
   "cell_type": "code",
   "execution_count": 44,
   "metadata": {},
   "outputs": [],
   "source": [
    "def returns_per_priority(priority,number_list,command_list):\n",
    "    i = 0\n",
    "    # print(number_list)\n",
    "    while command_list:\n",
    "        # print(min(command_list,key=lambda x : priority.index(x)))\n",
    "        if command_list[i] == min(command_list,key=lambda x : priority.index(x)):\n",
    "            # pass\n",
    "            number_list[i] = str(command_result(number_list[i],command_list[i],number_list[i+1]))\n",
    "            del number_list[i+1]\n",
    "            del command_list[i]\n",
    "            i = -1\n",
    "        i += 1\n",
    "    return abs(int(number_list[0]))"
   ]
  },
  {
   "cell_type": "code",
   "execution_count": 45,
   "metadata": {},
   "outputs": [],
   "source": [
    "def command_result(a,command,b):\n",
    "    if command == \"*\":\n",
    "        return int(a)*int(b)\n",
    "    if command == \"+\":\n",
    "        return int(a)+int(b)\n",
    "    if command == \"-\":\n",
    "        return int(a)-int(b)"
   ]
  },
  {
   "cell_type": "code",
   "execution_count": 46,
   "metadata": {},
   "outputs": [
    {
     "name": "stdout",
     "output_type": "stream",
     "text": [
      "60420\n"
     ]
    }
   ],
   "source": [
    "expression = \"100-200*300-500+20\"\n",
    "print(solution(expression))"
   ]
  },
  {
   "cell_type": "code",
   "execution_count": 47,
   "metadata": {},
   "outputs": [
    {
     "name": "stdout",
     "output_type": "stream",
     "text": [
      "300\n"
     ]
    }
   ],
   "source": [
    "expression = \"50*6-3*2\"\n",
    "print(solution(expression))"
   ]
  },
  {
   "cell_type": "code",
   "execution_count": 48,
   "metadata": {},
   "outputs": [
    {
     "name": "stdout",
     "output_type": "stream",
     "text": [
      "294\n"
     ]
    }
   ],
   "source": [
    "print(eval(expression))"
   ]
  },
  {
   "cell_type": "code",
   "execution_count": null,
   "metadata": {},
   "outputs": [],
   "source": []
  }
 ],
 "metadata": {
  "kernelspec": {
   "display_name": "Python 3",
   "language": "python",
   "name": "python3"
  },
  "language_info": {
   "codemirror_mode": {
    "name": "ipython",
    "version": 3
   },
   "file_extension": ".py",
   "mimetype": "text/x-python",
   "name": "python",
   "nbconvert_exporter": "python",
   "pygments_lexer": "ipython3",
   "version": "3.9.10"
  },
  "orig_nbformat": 4,
  "vscode": {
   "interpreter": {
    "hash": "b0fa6594d8f4cbf19f97940f81e996739fb7646882a419484c72d19e05852a7e"
   }
  }
 },
 "nbformat": 4,
 "nbformat_minor": 2
}
