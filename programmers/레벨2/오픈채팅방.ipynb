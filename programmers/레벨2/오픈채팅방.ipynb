{
 "cells": [
  {
   "cell_type": "code",
   "execution_count": 1,
   "metadata": {},
   "outputs": [],
   "source": [
    "def solution(record):\n",
    "    answer = []\n",
    "    uid_nick_name = {}\n",
    "    for i in record:\n",
    "        if len(i.split()) == 3:\n",
    "            command,UID,nickname = i.split()\n",
    "            uid_nick_name[UID] = nickname\n",
    "    for i in record:\n",
    "        if len(i.split()) == 3:\n",
    "            command,UID,nickname = i.split()\n",
    "        else:\n",
    "            command,UID = i.split()\n",
    "        if command == \"Enter\":\n",
    "            answer.append(\"{}님이 들어왔습니다.\".format(uid_nick_name[UID]))\n",
    "        if command == \"Leave\":\n",
    "            answer.append(\"{}님이 나갔습니다.\".format(uid_nick_name[UID]))\n",
    "            \n",
    "        # uid_nick_name[UID] = nickname\n",
    "    return answer"
   ]
  },
  {
   "cell_type": "code",
   "execution_count": 2,
   "metadata": {},
   "outputs": [
    {
     "name": "stdout",
     "output_type": "stream",
     "text": [
      "['Prodo님이 들어왔습니다.', 'Ryan님이 들어왔습니다.', 'Prodo님이 나갔습니다.', 'Prodo님이 들어왔습니다.']\n"
     ]
    }
   ],
   "source": [
    "record = [\"Enter uid1234 Muzi\", \"Enter uid4567 Prodo\",\"Leave uid1234\",\"Enter uid1234 Prodo\",\"Change uid4567 Ryan\"]\n",
    "print(solution(record))"
   ]
  },
  {
   "cell_type": "code",
   "execution_count": null,
   "metadata": {},
   "outputs": [],
   "source": []
  }
 ],
 "metadata": {
  "kernelspec": {
   "display_name": "Python 3",
   "language": "python",
   "name": "python3"
  },
  "language_info": {
   "codemirror_mode": {
    "name": "ipython",
    "version": 3
   },
   "file_extension": ".py",
   "mimetype": "text/x-python",
   "name": "python",
   "nbconvert_exporter": "python",
   "pygments_lexer": "ipython3",
   "version": "3.9.10"
  },
  "orig_nbformat": 4,
  "vscode": {
   "interpreter": {
    "hash": "b0fa6594d8f4cbf19f97940f81e996739fb7646882a419484c72d19e05852a7e"
   }
  }
 },
 "nbformat": 4,
 "nbformat_minor": 2
}
