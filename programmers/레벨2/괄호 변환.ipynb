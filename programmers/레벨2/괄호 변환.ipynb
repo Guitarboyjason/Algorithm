{
 "cells": [
  {
   "cell_type": "code",
   "execution_count": 5,
   "metadata": {},
   "outputs": [],
   "source": [
    "from collections import deque\n",
    "def solution(p):\n",
    "    answer = ''\n",
    "    w = p\n",
    "    if len(w) == 0:\n",
    "        return \"\"\n",
    "    while True:\n",
    "        stack = deque()\n",
    "        stack.append(w[0])\n",
    "        for i in range(1,len(w)):\n",
    "            if len(stack) == 0:\n",
    "                u = w[:i]\n",
    "                v = w[i:]\n",
    "                break\n",
    "            if w[i] != stack[-1]:\n",
    "                stack.pop()\n",
    "            else:\n",
    "                stack.append(w[i])\n",
    "        print(w,u,v)\n",
    "        break\n",
    "            \n",
    "    \n",
    "    return answer"
   ]
  },
  {
   "cell_type": "code",
   "execution_count": 8,
   "metadata": {},
   "outputs": [],
   "source": [
    "def is_correct(word):\n",
    "    stack = deque()\n",
    "    for i in word:\n",
    "        if i == \"(\":\n",
    "            stack.append(i)\n",
    "        elif len(stack):\n",
    "            if stack[-1] == \"(\":\n",
    "                stack.pop()\n",
    "        else:\n",
    "            return False\n",
    "    if stack:\n",
    "        return False\n",
    "    return True"
   ]
  },
  {
   "cell_type": "code",
   "execution_count": 21,
   "metadata": {},
   "outputs": [],
   "source": [
    "from collections import deque\n",
    "\n",
    "def solution(p):\n",
    "    answer = \"\"\n",
    "    if p == \"\":\n",
    "        return p\n",
    "    stack = deque()\n",
    "    stack.append(p[0])\n",
    "    u = p\n",
    "    v = \"\"\n",
    "    for i in range(1,len(p)):\n",
    "        if len(stack) == 0:\n",
    "            u = p[:i]\n",
    "            v = p[i:]\n",
    "            break\n",
    "        if p[i] != stack[-1]:\n",
    "            stack.pop()\n",
    "        else:\n",
    "            stack.append(p[i])\n",
    "    if is_correct(u):\n",
    "        return u + solution(v)\n",
    "    else:\n",
    "        answer+=\"(\"\n",
    "        answer += solution(v)\n",
    "        answer += \")\"\n",
    "        u = u[1:-1]\n",
    "        u = u.replace(\"(\",\"-\")\n",
    "        u = u.replace(\")\",\"(\")\n",
    "        u = u.replace(\"-\",\")\")\n",
    "        answer+=u\n",
    "        return answer\n",
    "        \n",
    "    "
   ]
  },
  {
   "cell_type": "code",
   "execution_count": 22,
   "metadata": {},
   "outputs": [
    {
     "name": "stdout",
     "output_type": "stream",
     "text": [
      "(()())()\n"
     ]
    }
   ],
   "source": [
    "p = \"(()())()\"\n",
    "print(solution(p))"
   ]
  },
  {
   "cell_type": "code",
   "execution_count": 23,
   "metadata": {},
   "outputs": [
    {
     "name": "stdout",
     "output_type": "stream",
     "text": [
      "()\n"
     ]
    }
   ],
   "source": [
    "p = \")(\"\n",
    "print(solution(p))"
   ]
  },
  {
   "cell_type": "code",
   "execution_count": 24,
   "metadata": {},
   "outputs": [
    {
     "name": "stdout",
     "output_type": "stream",
     "text": [
      "()(())()\n"
     ]
    }
   ],
   "source": [
    "p = \"()))((()\"\n",
    "print(solution(p))"
   ]
  },
  {
   "cell_type": "code",
   "execution_count": null,
   "metadata": {},
   "outputs": [],
   "source": []
  }
 ],
 "metadata": {
  "kernelspec": {
   "display_name": "Python 3",
   "language": "python",
   "name": "python3"
  },
  "language_info": {
   "codemirror_mode": {
    "name": "ipython",
    "version": 3
   },
   "file_extension": ".py",
   "mimetype": "text/x-python",
   "name": "python",
   "nbconvert_exporter": "python",
   "pygments_lexer": "ipython3",
   "version": "3.9.10"
  },
  "orig_nbformat": 4,
  "vscode": {
   "interpreter": {
    "hash": "b0fa6594d8f4cbf19f97940f81e996739fb7646882a419484c72d19e05852a7e"
   }
  }
 },
 "nbformat": 4,
 "nbformat_minor": 2
}
