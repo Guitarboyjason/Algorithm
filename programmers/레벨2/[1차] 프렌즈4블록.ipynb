{
 "cells": [
  {
   "cell_type": "code",
   "execution_count": 53,
   "metadata": {},
   "outputs": [],
   "source": [
    "square = [(0,0),(0,1),(1,0),(1,1)]\n",
    "\n",
    "def solution(m,n,board):\n",
    "    board = [list(i) for i in board]\n",
    "    print(board)\n",
    "    answer = 0\n",
    "    while True:\n",
    "        remove_list = []\n",
    "        flag_removed = False\n",
    "        for i in range(m-1):\n",
    "            for j in range(n-1):\n",
    "                if board[i][j] != \"0\":\n",
    "                    sign = True\n",
    "                    for k in square:\n",
    "                        if board[i][j] != board[i+k[0]][j+k[1]]:\n",
    "                            sign = False\n",
    "                            break\n",
    "                    if sign:\n",
    "                        for k in square:\n",
    "                            remove_list.append((i+k[0],j+k[1]))\n",
    "        # print(set(remove_list))\n",
    "        for i,j in list(set(remove_list)):\n",
    "            board[i][j] = \"0\"\n",
    "            answer += 1\n",
    "            flag_removed = True\n",
    "        #내려오는걸 표현 해 줘야 함\n",
    "        if flag_removed:\n",
    "            for i in range(m):\n",
    "                for j in range(n):\n",
    "                    if board[i][j] != \"0\" and i+1 < m and board[i+1][j] == \"0\":\n",
    "                        # sign = True\n",
    "                        tmp = i+1\n",
    "                        while tmp+1 < m and board[tmp+1][j] == \"0\":\n",
    "                            tmp += 1\n",
    "                        for gap in range(i):\n",
    "                            board[tmp-gap][j] = board[tmp-gap-1][j]\n",
    "                        # board[tmp][j] = board[i][j]\n",
    "                        board[i][j] = \"0\"\n",
    "        else:\n",
    "            break\n",
    "    return answer"
   ]
  },
  {
   "cell_type": "code",
   "execution_count": 54,
   "metadata": {},
   "outputs": [
    {
     "name": "stdout",
     "output_type": "stream",
     "text": [
      "[['T', 'T', 'T', 'A', 'N', 'T'], ['R', 'R', 'F', 'A', 'C', 'C'], ['R', 'R', 'R', 'F', 'C', 'C'], ['T', 'R', 'R', 'R', 'A', 'A'], ['T', 'T', 'M', 'M', 'M', 'F'], ['T', 'M', 'M', 'T', 'T', 'J']]\n",
      "11\n"
     ]
    }
   ],
   "source": [
    "m = 6\n",
    "n = 6\n",
    "board = [\"TTTANT\", \"RRFACC\", \"RRRFCC\", \"TRRRAA\", \"TTMMMF\", \"TMMTTJ\"]\n",
    "print(solution(m,n,board))"
   ]
  },
  {
   "cell_type": "code",
   "execution_count": 55,
   "metadata": {},
   "outputs": [
    {
     "name": "stdout",
     "output_type": "stream",
     "text": [
      "[['D', 'D', 'A', 'B', 'B', 'A', 'A', 'B', 'B', 'A'], ['A', 'A', 'A', 'A', 'A', 'A', 'B', 'B', 'B', 'A'], ['D', 'D', 'A', 'C', 'C', 'B', 'B', 'B', 'A', 'A'], ['D', 'D', 'A', 'B', 'B', 'B', 'B', 'B', 'A', 'A'], ['A', 'A', 'A', 'B', 'B', 'A', 'B', 'B', 'B', 'A'], ['C', 'C', 'A', 'D', 'D', 'A', 'A', 'B', 'B', 'B'], ['C', 'C', 'A', 'D', 'D', 'A', 'A', 'B', 'B', 'B'], ['B', 'B', 'A', 'C', 'C', 'A', 'B', 'B', 'B', 'A'], ['B', 'B', 'A', 'A', 'A', 'B', 'B', 'B', 'A', 'A'], ['D', 'D', 'A', 'B', 'B', 'B', 'B', 'A', 'A', 'A']]\n",
      "60\n"
     ]
    }
   ],
   "source": [
    "board = [\"DDABBAABBA\", \n",
    "\"AAAAAABBBA\", \n",
    "\"DDACCBBBAA\", \n",
    "\"DDABBBBBAA\", \n",
    "\"AAABBABBBA\", \n",
    "\"CCADDAABBB\", \n",
    "\"CCADDAABBB\", \n",
    "\"BBACCABBBA\", \n",
    "\"BBAAABBBAA\", \n",
    "\"DDABBBBAAA\"]\n",
    "m = len(board)\n",
    "n = len(board[0])\n",
    "print(solution(m,n,board))"
   ]
  },
  {
   "cell_type": "code",
   "execution_count": 56,
   "metadata": {},
   "outputs": [
    {
     "name": "stdout",
     "output_type": "stream",
     "text": [
      "[['A', 'A', 'A', 'A', 'A'], ['A', 'U', 'U', 'U', 'A'], ['A', 'U', 'U', 'A', 'A'], ['A', 'A', 'A', 'A', 'A']]\n",
      "8\n"
     ]
    }
   ],
   "source": [
    "board = [\n",
    "\"AAAAA\",\n",
    "\"AUUUA\",\n",
    "\"AUUAA\",\n",
    "\"AAAAA\"]\n",
    "m = len(board)\n",
    "n = len(board[0])\n",
    "print(solution(m,n,board))"
   ]
  },
  {
   "cell_type": "code",
   "execution_count": null,
   "metadata": {},
   "outputs": [],
   "source": []
  }
 ],
 "metadata": {
  "kernelspec": {
   "display_name": "Python 3",
   "language": "python",
   "name": "python3"
  },
  "language_info": {
   "codemirror_mode": {
    "name": "ipython",
    "version": 3
   },
   "file_extension": ".py",
   "mimetype": "text/x-python",
   "name": "python",
   "nbconvert_exporter": "python",
   "pygments_lexer": "ipython3",
   "version": "3.9.10"
  },
  "orig_nbformat": 4,
  "vscode": {
   "interpreter": {
    "hash": "b0fa6594d8f4cbf19f97940f81e996739fb7646882a419484c72d19e05852a7e"
   }
  }
 },
 "nbformat": 4,
 "nbformat_minor": 2
}
