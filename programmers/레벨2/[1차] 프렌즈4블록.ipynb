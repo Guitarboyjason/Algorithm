{
 "cells": [
  {
   "cell_type": "code",
   "execution_count": 32,
   "metadata": {},
   "outputs": [],
   "source": [
    "square = [(0,0),(0,1),(1,0),(1,1)]\n",
    "\n",
    "def solution(m,n,board):\n",
    "    board = [list(i) for i in board]\n",
    "    print(board)\n",
    "    answer = 0\n",
    "    while True:\n",
    "        remove_list = []\n",
    "        flag_removed = False\n",
    "        for i in range(m):\n",
    "            for j in range(n):\n",
    "                if board[i][j] != \"0\" and i+1 < m and j + 1 < n:\n",
    "                    sign = True\n",
    "                    for k in square:\n",
    "                        if board[i][j] != board[i+k[0]][j+k[1]]:\n",
    "                            sign = False\n",
    "                            break\n",
    "                    if sign:\n",
    "                        for k in square:\n",
    "                            remove_list.append((i+k[0],j+k[1]))\n",
    "        # print(set(remove_list))\n",
    "        for i,j in list(set(remove_list)):\n",
    "            board[i][j] = \"0\"\n",
    "            answer += 1\n",
    "            flag_removed = True\n",
    "        #내려오는걸 표현 해 줘야 함\n",
    "        if flag_removed:\n",
    "            for i in range(m):\n",
    "                for j in range(n):\n",
    "                    if board[i][j] != \"0\" and i+1 < m and board[i+1][j] == \"0\":\n",
    "                        # sign = True\n",
    "                        tmp = i+1\n",
    "                        while tmp+1 < m and board[tmp+1][j] == \"0\":\n",
    "                            tmp += 1\n",
    "                        board[tmp][j] = board[i][j]\n",
    "                        board[i][j] = \"0\"\n",
    "        else:\n",
    "            break\n",
    "    return answer"
   ]
  },
  {
   "cell_type": "code",
   "execution_count": 33,
   "metadata": {},
   "outputs": [
    {
     "name": "stdout",
     "output_type": "stream",
     "text": [
      "[['C', 'C', 'B', 'D', 'E'], ['A', 'A', 'A', 'D', 'E'], ['A', 'A', 'A', 'B', 'F'], ['C', 'C', 'B', 'B', 'F']]\n",
      "14\n"
     ]
    }
   ],
   "source": [
    "m = 4\n",
    "n = 5\n",
    "board = [\"CCBDE\", \"AAADE\", \"AAABF\", \"CCBBF\"]\n",
    "print(solution(m,n,board))"
   ]
  },
  {
   "cell_type": "code",
   "execution_count": 39,
   "metadata": {},
   "outputs": [
    {
     "name": "stdout",
     "output_type": "stream",
     "text": [
      "[['C', 'C', 'B', 'D', 'E'], ['A', 'A', 'A', 'D', 'E'], ['A', 'A', 'A', 'B', 'F'], ['C', 'C', 'B', 'B', 'F']]\n",
      "0 4\n"
     ]
    },
    {
     "ename": "IndexError",
     "evalue": "list index out of range",
     "output_type": "error",
     "traceback": [
      "\u001b[0;31m---------------------------------------------------------------------------\u001b[0m",
      "\u001b[0;31mIndexError\u001b[0m                                Traceback (most recent call last)",
      "\u001b[1;32m/Users/jason/PycharmProjects/programmers/레벨2/[1차] 프렌즈4블록.ipynb 셀 3\u001b[0m in \u001b[0;36m<module>\u001b[0;34m\u001b[0m\n\u001b[1;32m      <a href='vscode-notebook-cell:/Users/jason/PycharmProjects/programmers/%EB%A0%88%EB%B2%A82/%5B1%EC%B0%A8%5D%20%ED%94%84%EB%A0%8C%EC%A6%884%EB%B8%94%EB%A1%9D.ipynb#W4sZmlsZQ%3D%3D?line=1'>2</a>\u001b[0m n \u001b[39m=\u001b[39m \u001b[39m6\u001b[39m\n\u001b[1;32m      <a href='vscode-notebook-cell:/Users/jason/PycharmProjects/programmers/%EB%A0%88%EB%B2%A82/%5B1%EC%B0%A8%5D%20%ED%94%84%EB%A0%8C%EC%A6%884%EB%B8%94%EB%A1%9D.ipynb#W4sZmlsZQ%3D%3D?line=2'>3</a>\u001b[0m [\u001b[39m\"\u001b[39m\u001b[39mTTTANT\u001b[39m\u001b[39m\"\u001b[39m, \u001b[39m\"\u001b[39m\u001b[39mRRFACC\u001b[39m\u001b[39m\"\u001b[39m, \u001b[39m\"\u001b[39m\u001b[39mRRRFCC\u001b[39m\u001b[39m\"\u001b[39m, \u001b[39m\"\u001b[39m\u001b[39mTRRRAA\u001b[39m\u001b[39m\"\u001b[39m, \u001b[39m\"\u001b[39m\u001b[39mTTMMMF\u001b[39m\u001b[39m\"\u001b[39m, \u001b[39m\"\u001b[39m\u001b[39mTMMTTJ\u001b[39m\u001b[39m\"\u001b[39m]\n\u001b[0;32m----> <a href='vscode-notebook-cell:/Users/jason/PycharmProjects/programmers/%EB%A0%88%EB%B2%A82/%5B1%EC%B0%A8%5D%20%ED%94%84%EB%A0%8C%EC%A6%884%EB%B8%94%EB%A1%9D.ipynb#W4sZmlsZQ%3D%3D?line=3'>4</a>\u001b[0m \u001b[39mprint\u001b[39m(solution(m,n,board))\n",
      "\u001b[1;32m/Users/jason/PycharmProjects/programmers/레벨2/[1차] 프렌즈4블록.ipynb 셀 3\u001b[0m in \u001b[0;36msolution\u001b[0;34m(m, n, board)\u001b[0m\n\u001b[1;32m     <a href='vscode-notebook-cell:/Users/jason/PycharmProjects/programmers/%EB%A0%88%EB%B2%A82/%5B1%EC%B0%A8%5D%20%ED%94%84%EB%A0%8C%EC%A6%884%EB%B8%94%EB%A1%9D.ipynb#W4sZmlsZQ%3D%3D?line=9'>10</a>\u001b[0m \u001b[39mfor\u001b[39;00m i \u001b[39min\u001b[39;00m \u001b[39mrange\u001b[39m(m):\n\u001b[1;32m     <a href='vscode-notebook-cell:/Users/jason/PycharmProjects/programmers/%EB%A0%88%EB%B2%A82/%5B1%EC%B0%A8%5D%20%ED%94%84%EB%A0%8C%EC%A6%884%EB%B8%94%EB%A1%9D.ipynb#W4sZmlsZQ%3D%3D?line=10'>11</a>\u001b[0m     \u001b[39mfor\u001b[39;00m j \u001b[39min\u001b[39;00m \u001b[39mrange\u001b[39m(n):\n\u001b[0;32m---> <a href='vscode-notebook-cell:/Users/jason/PycharmProjects/programmers/%EB%A0%88%EB%B2%A82/%5B1%EC%B0%A8%5D%20%ED%94%84%EB%A0%8C%EC%A6%884%EB%B8%94%EB%A1%9D.ipynb#W4sZmlsZQ%3D%3D?line=11'>12</a>\u001b[0m         \u001b[39mif\u001b[39;00m board[i][j] \u001b[39m!=\u001b[39m \u001b[39m\"\u001b[39m\u001b[39m0\u001b[39m\u001b[39m\"\u001b[39m \u001b[39mand\u001b[39;00m i\u001b[39m+\u001b[39m\u001b[39m1\u001b[39m \u001b[39m<\u001b[39m m \u001b[39mand\u001b[39;00m j \u001b[39m+\u001b[39m \u001b[39m1\u001b[39m \u001b[39m<\u001b[39m n:\n\u001b[1;32m     <a href='vscode-notebook-cell:/Users/jason/PycharmProjects/programmers/%EB%A0%88%EB%B2%A82/%5B1%EC%B0%A8%5D%20%ED%94%84%EB%A0%8C%EC%A6%884%EB%B8%94%EB%A1%9D.ipynb#W4sZmlsZQ%3D%3D?line=12'>13</a>\u001b[0m             sign \u001b[39m=\u001b[39m \u001b[39mTrue\u001b[39;00m\n\u001b[1;32m     <a href='vscode-notebook-cell:/Users/jason/PycharmProjects/programmers/%EB%A0%88%EB%B2%A82/%5B1%EC%B0%A8%5D%20%ED%94%84%EB%A0%8C%EC%A6%884%EB%B8%94%EB%A1%9D.ipynb#W4sZmlsZQ%3D%3D?line=13'>14</a>\u001b[0m             \u001b[39mtry\u001b[39;00m:\n",
      "\u001b[0;31mIndexError\u001b[0m: list index out of range"
     ]
    }
   ],
   "source": [
    "m = 6\n",
    "n = 6\n",
    "[\"TTTANT\", \"RRFACC\", \"RRRFCC\", \"TRRRAA\", \"TTMMMF\", \"TMMTTJ\"]\n",
    "print(solution(m,n,board))"
   ]
  },
  {
   "cell_type": "code",
   "execution_count": null,
   "metadata": {},
   "outputs": [],
   "source": []
  },
  {
   "cell_type": "code",
   "execution_count": null,
   "metadata": {},
   "outputs": [],
   "source": []
  }
 ],
 "metadata": {
  "kernelspec": {
   "display_name": "Python 3",
   "language": "python",
   "name": "python3"
  },
  "language_info": {
   "codemirror_mode": {
    "name": "ipython",
    "version": 3
   },
   "file_extension": ".py",
   "mimetype": "text/x-python",
   "name": "python",
   "nbconvert_exporter": "python",
   "pygments_lexer": "ipython3",
   "version": "3.9.10"
  },
  "orig_nbformat": 4,
  "vscode": {
   "interpreter": {
    "hash": "b0fa6594d8f4cbf19f97940f81e996739fb7646882a419484c72d19e05852a7e"
   }
  }
 },
 "nbformat": 4,
 "nbformat_minor": 2
}
