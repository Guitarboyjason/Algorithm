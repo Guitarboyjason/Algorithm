{
 "cells": [
  {
   "attachments": {},
   "cell_type": "markdown",
   "metadata": {},
   "source": [
    "다이나믹 프로그래밍으로 풀 수 있는 문제\n",
    "\n",
    "dp[n] = dp[n-1] + dp[n-2]\n",
    "\n",
    "dp[1] = 1\n",
    "\n",
    "dp[2] = 1 1\n",
    "        \n",
    "        2\n",
    "        == 2\n",
    "dp[3] = 1 1 1\n",
    "\n",
    "        1 2\n",
    "\n",
    "        2 1\n",
    "\n",
    "        == 3\n",
    "\n",
    "dp[4] = 1 1 1 1\n",
    "\n",
    "        1 1 2\n",
    "\n",
    "        1 2 1\n",
    "\n",
    "        2 1 1\n",
    "\n",
    "        2 2\n",
    "        == 5\n",
    "        "
   ]
  },
  {
   "cell_type": "code",
   "execution_count": 3,
   "metadata": {},
   "outputs": [
    {
     "name": "stdout",
     "output_type": "stream",
     "text": [
      "5\n",
      "3\n"
     ]
    }
   ],
   "source": [
    "\n",
    "def solution(n):\n",
    "    answer=0\n",
    "    if n == 1:\n",
    "        return 1\n",
    "    if n == 2:\n",
    "        return 2\n",
    "    dp = [0 for _ in range(n+1)]\n",
    "    dp[1] = 1\n",
    "    dp[2] = 2\n",
    "    for i in range(3,n+1):\n",
    "        dp[i] = (dp[i-1] + dp[i-2])%1234567\n",
    "    return dp[n]\n",
    "    \n",
    "print(solution(4))\n",
    "print(solution(3))\n"
   ]
  },
  {
   "cell_type": "code",
   "execution_count": null,
   "metadata": {},
   "outputs": [],
   "source": []
  }
 ],
 "metadata": {
  "kernelspec": {
   "display_name": "Python 3",
   "language": "python",
   "name": "python3"
  },
  "language_info": {
   "codemirror_mode": {
    "name": "ipython",
    "version": 3
   },
   "file_extension": ".py",
   "mimetype": "text/x-python",
   "name": "python",
   "nbconvert_exporter": "python",
   "pygments_lexer": "ipython3",
   "version": "3.9.10"
  },
  "orig_nbformat": 4,
  "vscode": {
   "interpreter": {
    "hash": "b0fa6594d8f4cbf19f97940f81e996739fb7646882a419484c72d19e05852a7e"
   }
  }
 },
 "nbformat": 4,
 "nbformat_minor": 2
}
