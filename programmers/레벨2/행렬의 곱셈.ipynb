{
 "cells": [
  {
   "attachments": {},
   "cell_type": "markdown",
   "metadata": {},
   "source": [
    "[[2,3,2],\n",
    "[4,2,4],\n",
    "[3,1,4]]\n",
    "\n",
    "[[5,4,3],\n",
    "[2,4,1],\n",
    "[3,1,1]]\n",
    "\n"
   ]
  },
  {
   "cell_type": "code",
   "execution_count": 3,
   "metadata": {},
   "outputs": [
    {
     "name": "stdout",
     "output_type": "stream",
     "text": [
      "[[22, 22, 11], [36, 28, 18], [29, 20, 14]]\n"
     ]
    }
   ],
   "source": [
    "def solution(arr1,arr2):\n",
    "    answer = [[0 for _ in range(len(arr2[0]))]for _ in range(len(arr1))]\n",
    "    for row in range(len(arr1)):\n",
    "        for column in range(len(arr2[0])):\n",
    "            for i in range(len(arr1[row])):\n",
    "                answer[row][column] += arr1[row][i] * arr2[i][column]\n",
    "                \n",
    "    return answer\n",
    "    \n",
    "arr1 = [[2,3,2],[4,2,4],[3,1,4]]\n",
    "arr2 = [[5,4,3],[2,4,1],[3,1,1]]\n",
    "\n",
    "print(solution(arr1,arr2))"
   ]
  },
  {
   "cell_type": "code",
   "execution_count": null,
   "metadata": {},
   "outputs": [],
   "source": []
  }
 ],
 "metadata": {
  "kernelspec": {
   "display_name": "Python 3",
   "language": "python",
   "name": "python3"
  },
  "language_info": {
   "codemirror_mode": {
    "name": "ipython",
    "version": 3
   },
   "file_extension": ".py",
   "mimetype": "text/x-python",
   "name": "python",
   "nbconvert_exporter": "python",
   "pygments_lexer": "ipython3",
   "version": "3.9.10"
  },
  "orig_nbformat": 4,
  "vscode": {
   "interpreter": {
    "hash": "b0fa6594d8f4cbf19f97940f81e996739fb7646882a419484c72d19e05852a7e"
   }
  }
 },
 "nbformat": 4,
 "nbformat_minor": 2
}
