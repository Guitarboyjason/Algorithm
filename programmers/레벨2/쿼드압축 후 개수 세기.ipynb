{
 "cells": [
  {
   "attachments": {},
   "cell_type": "markdown",
   "metadata": {},
   "source": [
    "쪼갠다는 느낌으로 가자"
   ]
  },
  {
   "cell_type": "code",
   "execution_count": 1,
   "metadata": {},
   "outputs": [],
   "source": [
    "from collections import Counter\n",
    "def solution(arr):\n",
    "    answer = [0,0]\n",
    "    n = len(arr)\n",
    "    if len(Counter(arr).keys()) == 1:\n",
    "        if arr[0][0] == 1:\n",
    "            return [0,1]\n",
    "        else:\n",
    "            return [1,0]\n",
    "    else:\n",
    "        for i in range(2):\n",
    "            for j in range(2):\n",
    "                tmp_arr = [[]for _ in range(n//2)]\n",
    "                for k in range(n//2):\n",
    "                    \n",
    "                arr[2*i:2//n][2*j2//n]\n",
    "    return answer"
   ]
  },
  {
   "cell_type": "code",
   "execution_count": 10,
   "metadata": {},
   "outputs": [],
   "source": [
    "def solution(arr):\n",
    "    result = [0,0]\n",
    "    length = len(arr)\n",
    "    \n",
    "    def compression(a,b,l):\n",
    "        start = arr[a][b]\n",
    "        for i in range(a,a+l):\n",
    "            for j in range(b,b+l):\n",
    "                if arr[i][j]!=start:\n",
    "                    l = l//2\n",
    "                    compression(a,b,l)\n",
    "                    compression(a,b+l,l)\n",
    "                    compression(a+l,b,l)\n",
    "                    compression(a+l,b+l,l)\n",
    "                    return\n",
    "        result[start]+=1\n",
    "    compression(0,0,length)\n",
    "    \n",
    "    return result"
   ]
  },
  {
   "cell_type": "code",
   "execution_count": 11,
   "metadata": {},
   "outputs": [
    {
     "name": "stdout",
     "output_type": "stream",
     "text": [
      "[4, 9]\n"
     ]
    }
   ],
   "source": [
    "arr = [[1,1,0,0],[1,0,0,0],[1,0,0,1],[1,1,1,1]]\n",
    "print(solution(arr))"
   ]
  },
  {
   "cell_type": "code",
   "execution_count": 5,
   "metadata": {},
   "outputs": [
    {
     "name": "stdout",
     "output_type": "stream",
     "text": [
      "[1, 1, 2, 1]\n",
      "[3, 2]\n"
     ]
    }
   ],
   "source": [
    "arr_1 = [1,1]\n",
    "arr_2 = [2,1]\n",
    "print(arr_1+arr_2)\n",
    "print([x+y for x,y in zip(arr_1,arr_2)])"
   ]
  },
  {
   "cell_type": "code",
   "execution_count": null,
   "metadata": {},
   "outputs": [],
   "source": []
  }
 ],
 "metadata": {
  "kernelspec": {
   "display_name": "Python 3",
   "language": "python",
   "name": "python3"
  },
  "language_info": {
   "codemirror_mode": {
    "name": "ipython",
    "version": 3
   },
   "file_extension": ".py",
   "mimetype": "text/x-python",
   "name": "python",
   "nbconvert_exporter": "python",
   "pygments_lexer": "ipython3",
   "version": "3.9.10"
  },
  "orig_nbformat": 4,
  "vscode": {
   "interpreter": {
    "hash": "b0fa6594d8f4cbf19f97940f81e996739fb7646882a419484c72d19e05852a7e"
   }
  }
 },
 "nbformat": 4,
 "nbformat_minor": 2
}
