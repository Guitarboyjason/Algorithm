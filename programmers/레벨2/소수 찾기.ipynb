{
 "cells": [
  {
   "cell_type": "code",
   "execution_count": 5,
   "metadata": {},
   "outputs": [],
   "source": [
    "from itertools import permutations"
   ]
  },
  {
   "cell_type": "code",
   "execution_count": 56,
   "metadata": {},
   "outputs": [],
   "source": [
    "prime_nums = [False,False] + [True for _ in range(2,10**7+1)]\n",
    "for i in range(len(prime_nums)):\n",
    "    if prime_nums[i] == True:\n",
    "        for j in range(i*2,len(prime_nums),i):\n",
    "            prime_nums[j] == False"
   ]
  },
  {
   "cell_type": "code",
   "execution_count": 64,
   "metadata": {},
   "outputs": [],
   "source": [
    "def is_prime_num(num):\n",
    "    if num == 1 or num == 0:\n",
    "        return False\n",
    "    for i in range(2,num):\n",
    "        if num%i == 0:\n",
    "            return False\n",
    "    return True"
   ]
  },
  {
   "cell_type": "code",
   "execution_count": 65,
   "metadata": {},
   "outputs": [],
   "source": [
    "\n",
    "def solution(numbers):\n",
    "    answer = 0\n",
    "    num_list = []\n",
    "    for num_len in range(1,len(numbers)+1):\n",
    "        num_list.append(list(permutations(numbers,num_len)))\n",
    "    print(num_list)\n",
    "    for nums in num_list:\n",
    "        for num in nums:\n",
    "            if is_prime_num(int(\"\".join(num))):\n",
    "                print(num)\n",
    "                answer += 1\n",
    "    return answer"
   ]
  },
  {
   "cell_type": "code",
   "execution_count": 137,
   "metadata": {},
   "outputs": [],
   "source": [
    "def solution(numbers):\n",
    "    answer = 0\n",
    "    num_list = []\n",
    "    for num_len in range(1,len(numbers)+1):\n",
    "        num_list.extend(int(\"\".join(i)) for i in list(permutations(numbers,num_len)))\n",
    "    # print(num_list)\n",
    "    num_list = set(num_list)\n",
    "    for num in num_list:\n",
    "        if is_prime_num(num):\n",
    "            answer += 1\n",
    "    return answer\n",
    "    # for i in num_list:\n",
    "    #     nums.append(int(\"\".join(i)))\n",
    "    # print(nums)\n",
    "    "
   ]
  },
  {
   "cell_type": "code",
   "execution_count": 138,
   "metadata": {},
   "outputs": [],
   "source": [
    "numbers = \"011\""
   ]
  },
  {
   "cell_type": "code",
   "execution_count": 139,
   "metadata": {},
   "outputs": [
    {
     "name": "stdout",
     "output_type": "stream",
     "text": [
      "2\n"
     ]
    }
   ],
   "source": [
    "print(solution(numbers))"
   ]
  },
  {
   "cell_type": "code",
   "execution_count": 141,
   "metadata": {},
   "outputs": [
    {
     "name": "stdout",
     "output_type": "stream",
     "text": [
      "{123}\n"
     ]
    }
   ],
   "source": [
    "a = set()\n",
    "a |= set([123])\n",
    "print(a)"
   ]
  },
  {
   "cell_type": "code",
   "execution_count": null,
   "metadata": {},
   "outputs": [],
   "source": []
  },
  {
   "cell_type": "code",
   "execution_count": null,
   "metadata": {},
   "outputs": [],
   "source": []
  }
 ],
 "metadata": {
  "kernelspec": {
   "display_name": "Python 3",
   "language": "python",
   "name": "python3"
  },
  "language_info": {
   "codemirror_mode": {
    "name": "ipython",
    "version": 3
   },
   "file_extension": ".py",
   "mimetype": "text/x-python",
   "name": "python",
   "nbconvert_exporter": "python",
   "pygments_lexer": "ipython3",
   "version": "3.11.0 (v3.11.0:deaf509e8f, Oct 24 2022, 14:43:23) [Clang 13.0.0 (clang-1300.0.29.30)]"
  },
  "orig_nbformat": 4,
  "vscode": {
   "interpreter": {
    "hash": "aee8b7b246df8f9039afb4144a1f6fd8d2ca17a180786b69acc140d282b71a49"
   }
  }
 },
 "nbformat": 4,
 "nbformat_minor": 2
}
