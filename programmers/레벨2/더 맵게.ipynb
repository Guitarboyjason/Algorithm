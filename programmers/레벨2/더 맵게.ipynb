{
 "cells": [
  {
   "cell_type": "code",
   "execution_count": 10,
   "metadata": {},
   "outputs": [],
   "source": [
    "import heapq\n",
    "def solution(scoville, K):\n",
    "    answer = 0\n",
    "    \n",
    "    heapq.heapify(scoville)\n",
    "    if K > 0 and scoville[-1] == 0:\n",
    "        return -1\n",
    "    try:\n",
    "        while scoville[0] < K:\n",
    "            heapq.heappush(scoville,heapq.heappop(scoville) + 2*heapq.heappop(scoville))\n",
    "            answer += 1\n",
    "    except:\n",
    "        return -1\n",
    "    return answer"
   ]
  },
  {
   "cell_type": "code",
   "execution_count": 11,
   "metadata": {},
   "outputs": [],
   "source": [
    "scoville = [1, 2, 3, 9, 10, 12]\n",
    "K = 7"
   ]
  },
  {
   "cell_type": "code",
   "execution_count": 12,
   "metadata": {},
   "outputs": [
    {
     "name": "stdout",
     "output_type": "stream",
     "text": [
      "[1, 2, 3, 9, 10, 12]\n",
      "2\n"
     ]
    }
   ],
   "source": [
    "print(solution(scoville,K))"
   ]
  },
  {
   "cell_type": "code",
   "execution_count": null,
   "metadata": {},
   "outputs": [],
   "source": []
  }
 ],
 "metadata": {
  "kernelspec": {
   "display_name": "Python 3",
   "language": "python",
   "name": "python3"
  },
  "language_info": {
   "codemirror_mode": {
    "name": "ipython",
    "version": 3
   },
   "file_extension": ".py",
   "mimetype": "text/x-python",
   "name": "python",
   "nbconvert_exporter": "python",
   "pygments_lexer": "ipython3",
   "version": "3.9.10"
  },
  "orig_nbformat": 4,
  "vscode": {
   "interpreter": {
    "hash": "b0fa6594d8f4cbf19f97940f81e996739fb7646882a419484c72d19e05852a7e"
   }
  }
 },
 "nbformat": 4,
 "nbformat_minor": 2
}
