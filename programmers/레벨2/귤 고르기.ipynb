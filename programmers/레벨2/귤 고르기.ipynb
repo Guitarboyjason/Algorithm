{
 "cells": [
  {
   "cell_type": "code",
   "execution_count": 21,
   "metadata": {},
   "outputs": [],
   "source": [
    "from collections import Counter"
   ]
  },
  {
   "cell_type": "code",
   "execution_count": 10,
   "metadata": {},
   "outputs": [],
   "source": [
    "\n",
    "def solution(k, tangerine):\n",
    "    answer = 0\n",
    "    tangerine_set = set(tangerine)\n",
    "    tangerine_count = sorted([tangerine.count(i) for i in tangerine_set],reverse = True)\n",
    "    # print(tangerine_count)\n",
    "    summary = 0\n",
    "    for i in tangerine_count:\n",
    "        summary += i\n",
    "        answer += 1\n",
    "        if summary >= k:\n",
    "            return answer"
   ]
  },
  {
   "cell_type": "code",
   "execution_count": 22,
   "metadata": {},
   "outputs": [],
   "source": [
    "\n",
    "def solution(k, tangerine):\n",
    "    answer = 0\n",
    "    # tangerine_set = set(tangerine)\n",
    "    tangerine_count = Counter(tangerine).values()\n",
    "    # print(tangerine_count)\n",
    "    summary = 0\n",
    "    for i in tangerine_count:\n",
    "        summary += i\n",
    "        answer += 1\n",
    "        if summary >= k:\n",
    "            return answer"
   ]
  },
  {
   "cell_type": "code",
   "execution_count": 23,
   "metadata": {},
   "outputs": [],
   "source": [
    "k = 6\n",
    "tangerine = [1, 3, 2, 5, 4, 5, 2, 3]\n"
   ]
  },
  {
   "cell_type": "code",
   "execution_count": 14,
   "metadata": {},
   "outputs": [],
   "source": [
    "k = 4\n",
    "tangerine= [1, 3, 2, 5, 4, 5, 2, 3]"
   ]
  },
  {
   "cell_type": "code",
   "execution_count": 16,
   "metadata": {},
   "outputs": [],
   "source": [
    "k = 2\n",
    "tangerine = [1, 1, 1, 1, 2, 2, 2, 3]"
   ]
  },
  {
   "cell_type": "code",
   "execution_count": 24,
   "metadata": {},
   "outputs": [
    {
     "name": "stdout",
     "output_type": "stream",
     "text": [
      "4\n"
     ]
    }
   ],
   "source": [
    "print(solution(k,tangerine))"
   ]
  },
  {
   "cell_type": "code",
   "execution_count": null,
   "metadata": {},
   "outputs": [],
   "source": []
  },
  {
   "cell_type": "code",
   "execution_count": null,
   "metadata": {},
   "outputs": [],
   "source": []
  }
 ],
 "metadata": {
  "kernelspec": {
   "display_name": "Python 3",
   "language": "python",
   "name": "python3"
  },
  "language_info": {
   "codemirror_mode": {
    "name": "ipython",
    "version": 3
   },
   "file_extension": ".py",
   "mimetype": "text/x-python",
   "name": "python",
   "nbconvert_exporter": "python",
   "pygments_lexer": "ipython3",
   "version": "3.9.10"
  },
  "orig_nbformat": 4,
  "vscode": {
   "interpreter": {
    "hash": "b0fa6594d8f4cbf19f97940f81e996739fb7646882a419484c72d19e05852a7e"
   }
  }
 },
 "nbformat": 4,
 "nbformat_minor": 2
}
