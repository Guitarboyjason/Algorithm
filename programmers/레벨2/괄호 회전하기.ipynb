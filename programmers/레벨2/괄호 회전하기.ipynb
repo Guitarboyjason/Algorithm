{
 "cells": [
  {
   "attachments": {},
   "cell_type": "markdown",
   "metadata": {},
   "source": [
    "길이가 1000 이하이므로 전체를 계속해서 확인해도 될 것 같다.\n",
    "\n",
    "1000 * 1000 해도 100,000\n",
    "\n",
    "내부의 괄호가 열려있는 상태에서 외부의 괄호가 닫기는 경우 올바르지 않다.\n",
    "\n",
    "이런 경우 stack을 이용하면 확인할 수 있을 것 같다."
   ]
  },
  {
   "cell_type": "code",
   "execution_count": 33,
   "metadata": {},
   "outputs": [
    {
     "name": "stdout",
     "output_type": "stream",
     "text": [
      "error\n",
      "error\n",
      "error\n",
      "error\n",
      "0\n"
     ]
    }
   ],
   "source": [
    "pair = {\"[\":\"]\",\"{\":\"}\",\"(\":\")\"}\n",
    "\n",
    "from collections import deque\n",
    "def solution(s):\n",
    "    if len(s) % 2 == 1:\n",
    "        return 0\n",
    "    stack = deque()    \n",
    "    s_queue = deque(s)\n",
    "    answer = 0\n",
    "    # print('(' in pair)\n",
    "    for _ in range(len(s_queue)):\n",
    "        # print(num)\n",
    "        try:\n",
    "            # print(s_queue)\n",
    "            for i in s_queue:\n",
    "                # print(\"i : {}\".format(i))\n",
    "                # print(\"before process :\",stack)\n",
    "                if i in pair.keys(): # 열림\n",
    "                    stack.append(i)\n",
    "                else:         # 닫힘\n",
    "                    # print(pair[i])\n",
    "                    if len(stack) > 0 and pair[stack.pop()] == i:\n",
    "                        pass\n",
    "                    else:\n",
    "                        # print(\"error\")\n",
    "                        raise() # 문제 발생\n",
    "                # print(\"after process :\",stack)\n",
    "            answer += 1    \n",
    "        except:\n",
    "            # print(e)\n",
    "            pass\n",
    "        s_queue.append(s_queue.popleft())   #회전\n",
    "    return answer\n",
    "\n",
    "print(solution(\"[)(]\"))\n",
    "    "
   ]
  },
  {
   "cell_type": "code",
   "execution_count": null,
   "metadata": {},
   "outputs": [],
   "source": []
  },
  {
   "cell_type": "code",
   "execution_count": null,
   "metadata": {},
   "outputs": [],
   "source": []
  }
 ],
 "metadata": {
  "kernelspec": {
   "display_name": "Python 3",
   "language": "python",
   "name": "python3"
  },
  "language_info": {
   "codemirror_mode": {
    "name": "ipython",
    "version": 3
   },
   "file_extension": ".py",
   "mimetype": "text/x-python",
   "name": "python",
   "nbconvert_exporter": "python",
   "pygments_lexer": "ipython3",
   "version": "3.9.10"
  },
  "orig_nbformat": 4,
  "vscode": {
   "interpreter": {
    "hash": "b0fa6594d8f4cbf19f97940f81e996739fb7646882a419484c72d19e05852a7e"
   }
  }
 },
 "nbformat": 4,
 "nbformat_minor": 2
}
