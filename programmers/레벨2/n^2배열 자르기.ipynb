{
 "cells": [
  {
   "cell_type": "code",
   "execution_count": 16,
   "metadata": {},
   "outputs": [],
   "source": [
    "def solution(n, left, right):\n",
    "    answer = []\n",
    "    arr = [[-1 for _ in range(n)]for _ in range(n)]\n",
    "    for i in range(n):\n",
    "        for j in range(i+1):\n",
    "            for k in range(i+1):\n",
    "                if arr[j][k] == -1:\n",
    "                    arr[j][k] = i+1\n",
    "    for i in arr:\n",
    "        for j in i:\n",
    "            answer.append(j)\n",
    "    # print(arr)\n",
    "    return answer[left:right+1]"
   ]
  },
  {
   "cell_type": "code",
   "execution_count": 21,
   "metadata": {},
   "outputs": [],
   "source": [
    "def solution_2(n,left,right):\n",
    "    answer=[]\n",
    "    # for i in range(n):\n",
    "    for i in range(left,right+1):\n",
    "        x,y = i//n+1,i%n+1\n",
    "        answer.append(max(x,y))  \n",
    "    return answer"
   ]
  },
  {
   "cell_type": "code",
   "execution_count": 22,
   "metadata": {},
   "outputs": [
    {
     "name": "stdout",
     "output_type": "stream",
     "text": [
      "[3, 2, 2, 3]\n"
     ]
    }
   ],
   "source": [
    "print(solution(3,2,5))"
   ]
  },
  {
   "cell_type": "code",
   "execution_count": 24,
   "metadata": {},
   "outputs": [
    {
     "name": "stdout",
     "output_type": "stream",
     "text": [
      "[4, 3, 3, 3, 4, 4, 4, 4]\n"
     ]
    }
   ],
   "source": [
    "print(solution_2(4,7,14))"
   ]
  },
  {
   "cell_type": "code",
   "execution_count": null,
   "metadata": {},
   "outputs": [],
   "source": []
  }
 ],
 "metadata": {
  "kernelspec": {
   "display_name": "Python 3",
   "language": "python",
   "name": "python3"
  },
  "language_info": {
   "codemirror_mode": {
    "name": "ipython",
    "version": 3
   },
   "file_extension": ".py",
   "mimetype": "text/x-python",
   "name": "python",
   "nbconvert_exporter": "python",
   "pygments_lexer": "ipython3",
   "version": "3.9.10"
  },
  "orig_nbformat": 4,
  "vscode": {
   "interpreter": {
    "hash": "b0fa6594d8f4cbf19f97940f81e996739fb7646882a419484c72d19e05852a7e"
   }
  }
 },
 "nbformat": 4,
 "nbformat_minor": 2
}
