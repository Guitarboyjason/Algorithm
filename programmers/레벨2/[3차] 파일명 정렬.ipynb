{
 "cells": [
  {
   "cell_type": "code",
   "execution_count": 33,
   "metadata": {},
   "outputs": [],
   "source": [
    "import re\n",
    "def solution(files):\n",
    "    answer = []\n",
    "    num_mask = r\"[0-9]+\"\n",
    "    for file in files:\n",
    "        num_list = re.findall(num_mask,file)\n",
    "        num_index = file.index(num_list[0])\n",
    "        num_end = len(num_list[0]) + num_index\n",
    "        head = file[:num_index]\n",
    "        number = file[num_index:num_end]\n",
    "        tail = file[num_end:]\n",
    "        # print(head,number,tail)\n",
    "        answer.append([head,number,tail])\n",
    "    answer.sort(key=lambda x : int(x[1]))\n",
    "    answer.sort(key=lambda x: x[0].lower())\n",
    "    # print(answer)\n",
    "    answer = list(\"\".join(i) for i in answer)\n",
    "    # map(\"\".join(),answer))\n",
    "    # return sorted(key=lambda x: x[0],answer)\n",
    "    return answer"
   ]
  },
  {
   "cell_type": "code",
   "execution_count": 34,
   "metadata": {},
   "outputs": [],
   "source": [
    "files =  [\"img12.png\", \"img10.png\", \"img02.png\", \"img1.png\", \"IMG01.GIF\", \"img2.JPG\"]"
   ]
  },
  {
   "cell_type": "code",
   "execution_count": 35,
   "metadata": {},
   "outputs": [
    {
     "name": "stdout",
     "output_type": "stream",
     "text": [
      "['img1.png', 'IMG01.GIF', 'img02.png', 'img2.JPG', 'img10.png', 'img12.png']\n"
     ]
    }
   ],
   "source": [
    "print(solution(files))"
   ]
  },
  {
   "cell_type": "code",
   "execution_count": null,
   "metadata": {},
   "outputs": [],
   "source": []
  }
 ],
 "metadata": {
  "kernelspec": {
   "display_name": "Python 3",
   "language": "python",
   "name": "python3"
  },
  "language_info": {
   "codemirror_mode": {
    "name": "ipython",
    "version": 3
   },
   "file_extension": ".py",
   "mimetype": "text/x-python",
   "name": "python",
   "nbconvert_exporter": "python",
   "pygments_lexer": "ipython3",
   "version": "3.9.10"
  },
  "orig_nbformat": 4,
  "vscode": {
   "interpreter": {
    "hash": "b0fa6594d8f4cbf19f97940f81e996739fb7646882a419484c72d19e05852a7e"
   }
  }
 },
 "nbformat": 4,
 "nbformat_minor": 2
}
