{
 "cells": [
  {
   "attachments": {},
   "cell_type": "markdown",
   "metadata": {},
   "source": [
    "위나 아래는 같은 선을 공유하고 있고\n",
    "\n",
    "왼쪽과 오른쪽도 마찬가지 이다.\n",
    "\n",
    "처음에 범위를 넘어가는지를 먼저 체크하고\n",
    "\n",
    "넘어가지 않았다면 이동한 선분을 확인해서 지나갔었는지를 확인함.\n",
    "\n"
   ]
  },
  {
   "cell_type": "code",
   "execution_count": 1,
   "metadata": {},
   "outputs": [],
   "source": [
    "def solution(dirs):\n",
    "    now_x,now_y = 0,0\n",
    "    line_dict = {}\n",
    "    for i in range(-5,6):\n",
    "        line_dict[i] = {}\n",
    "        for j in range(-5,6):\n",
    "            line_dict[i][j] = False\n",
    "    print(line_dict)"
   ]
  },
  {
   "cell_type": "code",
   "execution_count": 30,
   "metadata": {},
   "outputs": [],
   "source": [
    "def solution(dirs):\n",
    "    x,y = 0,0\n",
    "    directions = {\"L\":(-1,0),\"R\":(1,0),\"U\":(0,1),\"D\":(0,-1)}\n",
    "    graph = []\n",
    "    for dir in dirs:\n",
    "        nx,ny = x+directions[dir][0],y+directions[dir][1]\n",
    "        if -5<=nx<=5 and -5<=ny<=5:\n",
    "            graph.append((x,y,nx,ny))\n",
    "            graph.append((nx,ny,x,y))\n",
    "            x,y = nx,ny\n",
    "    # print(graph)\n",
    "    graph = set(graph)\n",
    "    return len(graph)//2"
   ]
  },
  {
   "cell_type": "code",
   "execution_count": 31,
   "metadata": {},
   "outputs": [],
   "source": [
    "dirs = \"ULURRDLLU\"\n"
   ]
  },
  {
   "cell_type": "code",
   "execution_count": 33,
   "metadata": {},
   "outputs": [],
   "source": [
    "dirs = \"LULLLLLLU\""
   ]
  },
  {
   "cell_type": "code",
   "execution_count": 34,
   "metadata": {},
   "outputs": [
    {
     "data": {
      "text/plain": [
       "7"
      ]
     },
     "execution_count": 34,
     "metadata": {},
     "output_type": "execute_result"
    }
   ],
   "source": [
    "solution(dirs)"
   ]
  },
  {
   "cell_type": "code",
   "execution_count": null,
   "metadata": {},
   "outputs": [],
   "source": []
  }
 ],
 "metadata": {
  "kernelspec": {
   "display_name": "Python 3",
   "language": "python",
   "name": "python3"
  },
  "language_info": {
   "codemirror_mode": {
    "name": "ipython",
    "version": 3
   },
   "file_extension": ".py",
   "mimetype": "text/x-python",
   "name": "python",
   "nbconvert_exporter": "python",
   "pygments_lexer": "ipython3",
   "version": "3.9.10"
  },
  "orig_nbformat": 4,
  "vscode": {
   "interpreter": {
    "hash": "b0fa6594d8f4cbf19f97940f81e996739fb7646882a419484c72d19e05852a7e"
   }
  }
 },
 "nbformat": 4,
 "nbformat_minor": 2
}
