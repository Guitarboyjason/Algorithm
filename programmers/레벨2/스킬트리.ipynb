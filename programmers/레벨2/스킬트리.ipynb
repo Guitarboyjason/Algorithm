{
 "cells": [
  {
   "cell_type": "code",
   "execution_count": 12,
   "metadata": {},
   "outputs": [],
   "source": [
    "from collections import deque\n",
    "def solution(skill, skill_trees):\n",
    "    answer = 0\n",
    "    for skill_tree in skill_trees:\n",
    "        tmp_skill = deque(skill)\n",
    "        skill_tree=  deque(skill_tree)\n",
    "        print(tmp_skill)\n",
    "        while skill_tree:\n",
    "            if len(tmp_skill) == 0:\n",
    "                break\n",
    "            now = skill_tree.popleft()\n",
    "            if now in tmp_skill and not tmp_skill[0]:\n",
    "                break\n",
    "            if now == tmp_skill[0]:\n",
    "                tmp_skill.popleft()\n",
    "        if len(tmp_skill) == 0:\n",
    "            answer += 1\n",
    "    return answer"
   ]
  },
  {
   "cell_type": "code",
   "execution_count": 21,
   "metadata": {},
   "outputs": [],
   "source": [
    "from collections import deque\n",
    "\n",
    "def solution(skill,skill_trees):\n",
    "    answer = 0\n",
    "    for skill_tree in skill_trees:\n",
    "        tmp_skill = deque(skill)\n",
    "        skill_tree = deque(skill_tree)\n",
    "        answer += 1\n",
    "        try:\n",
    "            while skill_tree:\n",
    "                now = skill_tree.popleft()\n",
    "                if now in tmp_skill and now is not tmp_skill[0]:\n",
    "                    raise()\n",
    "                if len(tmp_skill) > 0 and now == tmp_skill[0]:\n",
    "                    tmp_skill.popleft()\n",
    "        except:\n",
    "            answer -=1\n",
    "    return answer"
   ]
  },
  {
   "cell_type": "code",
   "execution_count": 23,
   "metadata": {},
   "outputs": [
    {
     "ename": "KeyboardInterrupt",
     "evalue": "",
     "output_type": "error",
     "traceback": [
      "\u001b[0;31m---------------------------------------------------------------------------\u001b[0m",
      "\u001b[0;31mIndexError\u001b[0m                                Traceback (most recent call last)",
      "\u001b[1;32m/Users/jason/PycharmProjects/programmers/레벨2/스킬트리.ipynb 셀 3\u001b[0m in \u001b[0;36msolution\u001b[0;34m(skill, skill_trees)\u001b[0m\n\u001b[1;32m     <a href='vscode-notebook-cell:/Users/jason/PycharmProjects/programmers/%EB%A0%88%EB%B2%A82/%EC%8A%A4%ED%82%AC%ED%8A%B8%EB%A6%AC.ipynb#W1sZmlsZQ%3D%3D?line=12'>13</a>\u001b[0m     \u001b[39mraise\u001b[39;00m()\n\u001b[0;32m---> <a href='vscode-notebook-cell:/Users/jason/PycharmProjects/programmers/%EB%A0%88%EB%B2%A82/%EC%8A%A4%ED%82%AC%ED%8A%B8%EB%A6%AC.ipynb#W1sZmlsZQ%3D%3D?line=13'>14</a>\u001b[0m \u001b[39mif\u001b[39;00m now \u001b[39m==\u001b[39m tmp_skill[\u001b[39m0\u001b[39;49m]:\n\u001b[1;32m     <a href='vscode-notebook-cell:/Users/jason/PycharmProjects/programmers/%EB%A0%88%EB%B2%A82/%EC%8A%A4%ED%82%AC%ED%8A%B8%EB%A6%AC.ipynb#W1sZmlsZQ%3D%3D?line=14'>15</a>\u001b[0m     tmp_skill\u001b[39m.\u001b[39mpopleft()\n",
      "\u001b[0;31mIndexError\u001b[0m: deque index out of range",
      "\nDuring handling of the above exception, another exception occurred:\n",
      "\u001b[0;31mKeyboardInterrupt\u001b[0m                         Traceback (most recent call last)",
      "\u001b[1;32m/Users/jason/PycharmProjects/programmers/레벨2/스킬트리.ipynb 셀 3\u001b[0m in \u001b[0;36m<module>\u001b[0;34m\u001b[0m\n\u001b[1;32m      <a href='vscode-notebook-cell:/Users/jason/PycharmProjects/programmers/%EB%A0%88%EB%B2%A82/%EC%8A%A4%ED%82%AC%ED%8A%B8%EB%A6%AC.ipynb#W1sZmlsZQ%3D%3D?line=0'>1</a>\u001b[0m skill\u001b[39m=\u001b[39m \u001b[39m\"\u001b[39m\u001b[39mCBD\u001b[39m\u001b[39m\"\u001b[39m\n\u001b[1;32m      <a href='vscode-notebook-cell:/Users/jason/PycharmProjects/programmers/%EB%A0%88%EB%B2%A82/%EC%8A%A4%ED%82%AC%ED%8A%B8%EB%A6%AC.ipynb#W1sZmlsZQ%3D%3D?line=1'>2</a>\u001b[0m skill_trees \u001b[39m=\u001b[39m [\u001b[39m\"\u001b[39m\u001b[39mBACDE\u001b[39m\u001b[39m\"\u001b[39m, \u001b[39m\"\u001b[39m\u001b[39mCBADF\u001b[39m\u001b[39m\"\u001b[39m, \u001b[39m\"\u001b[39m\u001b[39mAECB\u001b[39m\u001b[39m\"\u001b[39m, \u001b[39m\"\u001b[39m\u001b[39mBDA\u001b[39m\u001b[39m\"\u001b[39m]\n\u001b[0;32m----> <a href='vscode-notebook-cell:/Users/jason/PycharmProjects/programmers/%EB%A0%88%EB%B2%A82/%EC%8A%A4%ED%82%AC%ED%8A%B8%EB%A6%AC.ipynb#W1sZmlsZQ%3D%3D?line=2'>3</a>\u001b[0m \u001b[39mprint\u001b[39m(solution(skill,skill_trees))\n",
      "\u001b[1;32m/Users/jason/PycharmProjects/programmers/레벨2/스킬트리.ipynb 셀 3\u001b[0m in \u001b[0;36msolution\u001b[0;34m(skill, skill_trees)\u001b[0m\n\u001b[1;32m     <a href='vscode-notebook-cell:/Users/jason/PycharmProjects/programmers/%EB%A0%88%EB%B2%A82/%EC%8A%A4%ED%82%AC%ED%8A%B8%EB%A6%AC.ipynb#W1sZmlsZQ%3D%3D?line=14'>15</a>\u001b[0m                 tmp_skill\u001b[39m.\u001b[39mpopleft()\n\u001b[1;32m     <a href='vscode-notebook-cell:/Users/jason/PycharmProjects/programmers/%EB%A0%88%EB%B2%A82/%EC%8A%A4%ED%82%AC%ED%8A%B8%EB%A6%AC.ipynb#W1sZmlsZQ%3D%3D?line=15'>16</a>\u001b[0m     \u001b[39mexcept\u001b[39;00m:\n\u001b[0;32m---> <a href='vscode-notebook-cell:/Users/jason/PycharmProjects/programmers/%EB%A0%88%EB%B2%A82/%EC%8A%A4%ED%82%AC%ED%8A%B8%EB%A6%AC.ipynb#W1sZmlsZQ%3D%3D?line=16'>17</a>\u001b[0m         answer \u001b[39m-\u001b[39m\u001b[39m=\u001b[39m\u001b[39m1\u001b[39m\n\u001b[1;32m     <a href='vscode-notebook-cell:/Users/jason/PycharmProjects/programmers/%EB%A0%88%EB%B2%A82/%EC%8A%A4%ED%82%AC%ED%8A%B8%EB%A6%AC.ipynb#W1sZmlsZQ%3D%3D?line=17'>18</a>\u001b[0m \u001b[39mreturn\u001b[39;00m answer\n",
      "\u001b[1;32m/Users/jason/PycharmProjects/programmers/레벨2/스킬트리.ipynb 셀 3\u001b[0m in \u001b[0;36msolution\u001b[0;34m(skill, skill_trees)\u001b[0m\n\u001b[1;32m     <a href='vscode-notebook-cell:/Users/jason/PycharmProjects/programmers/%EB%A0%88%EB%B2%A82/%EC%8A%A4%ED%82%AC%ED%8A%B8%EB%A6%AC.ipynb#W1sZmlsZQ%3D%3D?line=14'>15</a>\u001b[0m                 tmp_skill\u001b[39m.\u001b[39mpopleft()\n\u001b[1;32m     <a href='vscode-notebook-cell:/Users/jason/PycharmProjects/programmers/%EB%A0%88%EB%B2%A82/%EC%8A%A4%ED%82%AC%ED%8A%B8%EB%A6%AC.ipynb#W1sZmlsZQ%3D%3D?line=15'>16</a>\u001b[0m     \u001b[39mexcept\u001b[39;00m:\n\u001b[0;32m---> <a href='vscode-notebook-cell:/Users/jason/PycharmProjects/programmers/%EB%A0%88%EB%B2%A82/%EC%8A%A4%ED%82%AC%ED%8A%B8%EB%A6%AC.ipynb#W1sZmlsZQ%3D%3D?line=16'>17</a>\u001b[0m         answer \u001b[39m-\u001b[39m\u001b[39m=\u001b[39m\u001b[39m1\u001b[39m\n\u001b[1;32m     <a href='vscode-notebook-cell:/Users/jason/PycharmProjects/programmers/%EB%A0%88%EB%B2%A82/%EC%8A%A4%ED%82%AC%ED%8A%B8%EB%A6%AC.ipynb#W1sZmlsZQ%3D%3D?line=17'>18</a>\u001b[0m \u001b[39mreturn\u001b[39;00m answer\n",
      "File \u001b[0;32m/opt/homebrew/lib/python3.9/site-packages/debugpy/_vendored/pydevd/_pydevd_bundle/pydevd_frame.py:1117\u001b[0m, in \u001b[0;36mPyDBFrame.trace_dispatch\u001b[0;34m(self, frame, event, arg)\u001b[0m\n\u001b[1;32m   1115\u001b[0m \u001b[39mif\u001b[39;00m is_line:\n\u001b[1;32m   1116\u001b[0m     \u001b[39mself\u001b[39m\u001b[39m.\u001b[39mset_suspend(thread, step_cmd, original_step_cmd\u001b[39m=\u001b[39minfo\u001b[39m.\u001b[39mpydev_original_step_cmd)\n\u001b[0;32m-> 1117\u001b[0m     \u001b[39mself\u001b[39;49m\u001b[39m.\u001b[39;49mdo_wait_suspend(thread, frame, event, arg)\n\u001b[1;32m   1118\u001b[0m \u001b[39melif\u001b[39;00m is_return:  \u001b[39m# return event\u001b[39;00m\n\u001b[1;32m   1119\u001b[0m     back \u001b[39m=\u001b[39m frame\u001b[39m.\u001b[39mf_back\n",
      "File \u001b[0;32m/opt/homebrew/lib/python3.9/site-packages/debugpy/_vendored/pydevd/_pydevd_bundle/pydevd_frame.py:164\u001b[0m, in \u001b[0;36mPyDBFrame.do_wait_suspend\u001b[0;34m(self, *args, **kwargs)\u001b[0m\n\u001b[1;32m    163\u001b[0m \u001b[39mdef\u001b[39;00m \u001b[39mdo_wait_suspend\u001b[39m(\u001b[39mself\u001b[39m, \u001b[39m*\u001b[39margs, \u001b[39m*\u001b[39m\u001b[39m*\u001b[39mkwargs):\n\u001b[0;32m--> 164\u001b[0m     \u001b[39mself\u001b[39;49m\u001b[39m.\u001b[39;49m_args[\u001b[39m0\u001b[39;49m]\u001b[39m.\u001b[39;49mdo_wait_suspend(\u001b[39m*\u001b[39;49margs, \u001b[39m*\u001b[39;49m\u001b[39m*\u001b[39;49mkwargs)\n",
      "File \u001b[0;32m/opt/homebrew/lib/python3.9/site-packages/debugpy/_vendored/pydevd/pydevd.py:1976\u001b[0m, in \u001b[0;36mPyDB.do_wait_suspend\u001b[0;34m(self, thread, frame, event, arg, exception_type)\u001b[0m\n\u001b[1;32m   1973\u001b[0m             from_this_thread\u001b[39m.\u001b[39mappend(frame_custom_thread_id)\n\u001b[1;32m   1975\u001b[0m     \u001b[39mwith\u001b[39;00m \u001b[39mself\u001b[39m\u001b[39m.\u001b[39m_threads_suspended_single_notification\u001b[39m.\u001b[39mnotify_thread_suspended(thread_id, stop_reason):\n\u001b[0;32m-> 1976\u001b[0m         keep_suspended \u001b[39m=\u001b[39m \u001b[39mself\u001b[39;49m\u001b[39m.\u001b[39;49m_do_wait_suspend(thread, frame, event, arg, suspend_type, from_this_thread, frames_tracker)\n\u001b[1;32m   1978\u001b[0m frames_list \u001b[39m=\u001b[39m \u001b[39mNone\u001b[39;00m\n\u001b[1;32m   1980\u001b[0m \u001b[39mif\u001b[39;00m keep_suspended:\n\u001b[1;32m   1981\u001b[0m     \u001b[39m# This means that we should pause again after a set next statement.\u001b[39;00m\n",
      "File \u001b[0;32m/opt/homebrew/lib/python3.9/site-packages/debugpy/_vendored/pydevd/pydevd.py:2011\u001b[0m, in \u001b[0;36mPyDB._do_wait_suspend\u001b[0;34m(self, thread, frame, event, arg, suspend_type, from_this_thread, frames_tracker)\u001b[0m\n\u001b[1;32m   2008\u001b[0m         \u001b[39mself\u001b[39m\u001b[39m.\u001b[39m_call_mpl_hook()\n\u001b[1;32m   2010\u001b[0m     \u001b[39mself\u001b[39m\u001b[39m.\u001b[39mprocess_internal_commands()\n\u001b[0;32m-> 2011\u001b[0m     time\u001b[39m.\u001b[39;49msleep(\u001b[39m0.01\u001b[39;49m)\n\u001b[1;32m   2013\u001b[0m \u001b[39mself\u001b[39m\u001b[39m.\u001b[39mcancel_async_evaluation(get_current_thread_id(thread), \u001b[39mstr\u001b[39m(\u001b[39mid\u001b[39m(frame)))\n\u001b[1;32m   2015\u001b[0m \u001b[39m# process any stepping instructions\u001b[39;00m\n",
      "\u001b[0;31mKeyboardInterrupt\u001b[0m: "
     ]
    }
   ],
   "source": [
    "skill= \"CBD\"\n",
    "skill_trees = [\"BACDE\", \"CBADF\", \"AECB\", \"BDA\"]\n",
    "print(solution(skill,skill_trees))"
   ]
  },
  {
   "cell_type": "code",
   "execution_count": null,
   "metadata": {},
   "outputs": [],
   "source": []
  }
 ],
 "metadata": {
  "kernelspec": {
   "display_name": "Python 3",
   "language": "python",
   "name": "python3"
  },
  "language_info": {
   "codemirror_mode": {
    "name": "ipython",
    "version": 3
   },
   "file_extension": ".py",
   "mimetype": "text/x-python",
   "name": "python",
   "nbconvert_exporter": "python",
   "pygments_lexer": "ipython3",
   "version": "3.9.10"
  },
  "orig_nbformat": 4,
  "vscode": {
   "interpreter": {
    "hash": "b0fa6594d8f4cbf19f97940f81e996739fb7646882a419484c72d19e05852a7e"
   }
  }
 },
 "nbformat": 4,
 "nbformat_minor": 2
}
