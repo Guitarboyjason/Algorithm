{
 "cells": [
  {
   "cell_type": "code",
   "execution_count": 12,
   "metadata": {},
   "outputs": [],
   "source": [
    "from collections import deque\n",
    "def solution(skill, skill_trees):\n",
    "    answer = 0\n",
    "    for skill_tree in skill_trees:\n",
    "        tmp_skill = deque(skill)\n",
    "        skill_tree=  deque(skill_tree)\n",
    "        print(tmp_skill)\n",
    "        while skill_tree:\n",
    "            if len(tmp_skill) == 0:\n",
    "                break\n",
    "            now = skill_tree.popleft()\n",
    "            if now in tmp_skill and not tmp_skill[0]:\n",
    "                break\n",
    "            if now == tmp_skill[0]:\n",
    "                tmp_skill.popleft()\n",
    "        if len(tmp_skill) == 0:\n",
    "            answer += 1\n",
    "    return answer"
   ]
  },
  {
   "cell_type": "code",
   "execution_count": 24,
   "metadata": {},
   "outputs": [],
   "source": [
    "from collections import deque\n",
    "\n",
    "def solution(skill,skill_trees):\n",
    "    answer = 0\n",
    "    for skill_tree in skill_trees:\n",
    "        tmp_skill = deque(skill)\n",
    "        skill_tree = deque(skill_tree)\n",
    "        answer += 1\n",
    "        try:\n",
    "            while skill_tree:\n",
    "                now = skill_tree.popleft()\n",
    "                if now in tmp_skill and now is not tmp_skill[0]:\n",
    "                    raise()\n",
    "                if len(tmp_skill) > 0 and now == tmp_skill[0]:\n",
    "                    tmp_skill.popleft()\n",
    "        except:\n",
    "            answer -=1\n",
    "    return answer"
   ]
  },
  {
   "cell_type": "code",
   "execution_count": 25,
   "metadata": {},
   "outputs": [
    {
     "name": "stdout",
     "output_type": "stream",
     "text": [
      "2\n"
     ]
    }
   ],
   "source": [
    "skill= \"CBD\"\n",
    "skill_trees = [\"BACDE\", \"CBADF\", \"AECB\", \"BDA\"]\n",
    "print(solution(skill,skill_trees))"
   ]
  },
  {
   "cell_type": "code",
   "execution_count": null,
   "metadata": {},
   "outputs": [],
   "source": []
  }
 ],
 "metadata": {
  "kernelspec": {
   "display_name": "Python 3",
   "language": "python",
   "name": "python3"
  },
  "language_info": {
   "codemirror_mode": {
    "name": "ipython",
    "version": 3
   },
   "file_extension": ".py",
   "mimetype": "text/x-python",
   "name": "python",
   "nbconvert_exporter": "python",
   "pygments_lexer": "ipython3",
   "version": "3.9.10"
  },
  "orig_nbformat": 4,
  "vscode": {
   "interpreter": {
    "hash": "b0fa6594d8f4cbf19f97940f81e996739fb7646882a419484c72d19e05852a7e"
   }
  }
 },
 "nbformat": 4,
 "nbformat_minor": 2
}
