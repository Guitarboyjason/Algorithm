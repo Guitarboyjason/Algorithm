{
 "cells": [
  {
   "cell_type": "code",
   "execution_count": 1,
   "metadata": {},
   "outputs": [],
   "source": [
    "from collections import deque"
   ]
  },
  {
   "cell_type": "code",
   "execution_count": 2,
   "metadata": {},
   "outputs": [],
   "source": [
    "def solution(priorities, location):\n",
    "    answer = 0\n",
    "    priorities = deque(priorities)\n",
    "    while priorities:\n",
    "        now_printing = priorities.popleft()\n",
    "        location -= 1\n",
    "        if len(priorities) > 0 and max(priorities) > now_printing or len(priorities) == 0:\n",
    "            priorities.append(now_printing)\n",
    "            if location == 0:\n",
    "                location = len(priorities)\n",
    "        else:\n",
    "            answer += 1\n",
    "            if location == 0:\n",
    "                return answer"
   ]
  },
  {
   "cell_type": "code",
   "execution_count": 3,
   "metadata": {},
   "outputs": [
    {
     "ename": "ValueError",
     "evalue": "max() arg is an empty sequence",
     "output_type": "error",
     "traceback": [
      "\u001b[0;31m---------------------------------------------------------------------------\u001b[0m",
      "\u001b[0;31mValueError\u001b[0m                                Traceback (most recent call last)",
      "\u001b[1;32m/Users/jason/PycharmProjects/programmers/레벨2/프린터.ipynb 셀 3\u001b[0m in \u001b[0;36m<module>\u001b[0;34m\u001b[0m\n\u001b[0;32m----> <a href='vscode-notebook-cell:/Users/jason/PycharmProjects/programmers/%EB%A0%88%EB%B2%A82/%ED%94%84%EB%A6%B0%ED%84%B0.ipynb#W2sZmlsZQ%3D%3D?line=0'>1</a>\u001b[0m \u001b[39mprint\u001b[39m(solution([\u001b[39m2\u001b[39;49m,\u001b[39m1\u001b[39;49m,\u001b[39m3\u001b[39;49m,\u001b[39m2\u001b[39;49m],\u001b[39m2\u001b[39;49m))\n",
      "\u001b[1;32m/Users/jason/PycharmProjects/programmers/레벨2/프린터.ipynb 셀 3\u001b[0m in \u001b[0;36msolution\u001b[0;34m(priorities, location)\u001b[0m\n\u001b[1;32m      <a href='vscode-notebook-cell:/Users/jason/PycharmProjects/programmers/%EB%A0%88%EB%B2%A82/%ED%94%84%EB%A6%B0%ED%84%B0.ipynb#W2sZmlsZQ%3D%3D?line=4'>5</a>\u001b[0m now_printing \u001b[39m=\u001b[39m priorities\u001b[39m.\u001b[39mpopleft()\n\u001b[1;32m      <a href='vscode-notebook-cell:/Users/jason/PycharmProjects/programmers/%EB%A0%88%EB%B2%A82/%ED%94%84%EB%A6%B0%ED%84%B0.ipynb#W2sZmlsZQ%3D%3D?line=5'>6</a>\u001b[0m location \u001b[39m-\u001b[39m\u001b[39m=\u001b[39m \u001b[39m1\u001b[39m\n\u001b[0;32m----> <a href='vscode-notebook-cell:/Users/jason/PycharmProjects/programmers/%EB%A0%88%EB%B2%A82/%ED%94%84%EB%A6%B0%ED%84%B0.ipynb#W2sZmlsZQ%3D%3D?line=6'>7</a>\u001b[0m \u001b[39mif\u001b[39;00m \u001b[39mmax\u001b[39;49m(priorities) \u001b[39m>\u001b[39m now_printing:\n\u001b[1;32m      <a href='vscode-notebook-cell:/Users/jason/PycharmProjects/programmers/%EB%A0%88%EB%B2%A82/%ED%94%84%EB%A6%B0%ED%84%B0.ipynb#W2sZmlsZQ%3D%3D?line=7'>8</a>\u001b[0m     priorities\u001b[39m.\u001b[39mappend(now_printing)\n\u001b[1;32m      <a href='vscode-notebook-cell:/Users/jason/PycharmProjects/programmers/%EB%A0%88%EB%B2%A82/%ED%94%84%EB%A6%B0%ED%84%B0.ipynb#W2sZmlsZQ%3D%3D?line=8'>9</a>\u001b[0m     \u001b[39mif\u001b[39;00m location \u001b[39m==\u001b[39m \u001b[39m0\u001b[39m:\n",
      "\u001b[0;31mValueError\u001b[0m: max() arg is an empty sequence"
     ]
    }
   ],
   "source": [
    "print(solution([2,1,3,2],2))"
   ]
  },
  {
   "cell_type": "code",
   "execution_count": null,
   "metadata": {},
   "outputs": [],
   "source": []
  }
 ],
 "metadata": {
  "kernelspec": {
   "display_name": "Python 3",
   "language": "python",
   "name": "python3"
  },
  "language_info": {
   "codemirror_mode": {
    "name": "ipython",
    "version": 3
   },
   "file_extension": ".py",
   "mimetype": "text/x-python",
   "name": "python",
   "nbconvert_exporter": "python",
   "pygments_lexer": "ipython3",
   "version": "3.9.10"
  },
  "orig_nbformat": 4,
  "vscode": {
   "interpreter": {
    "hash": "b0fa6594d8f4cbf19f97940f81e996739fb7646882a419484c72d19e05852a7e"
   }
  }
 },
 "nbformat": 4,
 "nbformat_minor": 2
}
