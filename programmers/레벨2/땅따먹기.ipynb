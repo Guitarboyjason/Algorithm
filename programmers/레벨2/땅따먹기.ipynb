{
 "cells": [
  {
   "attachments": {},
   "cell_type": "markdown",
   "metadata": {},
   "source": [
    "다이나믹 프로그래밍??\n",
    "\n",
    "현재 밟은 위치는 전전과 전혀 관계가 없다고 할 수 있을까\n",
    "\n",
    "예로 4열을 밟으려 할 때\n",
    "\n",
    "1) 직전에 4열을 밟아서 밟을 수가 없음\n",
    "\n",
    "2) 직전에 4열을 제외한 다른 열을 밟아서 밟을 수 있음\n",
    "\n",
    "그럼 전의 경우의 수 중에 4열을 밟고\n",
    "현재 4열을 밟지 않는 경우와,\n",
    "\n",
    "4열을 밟지 않고 현재 4열을 밟는 경우를 비교하면 되려나\n",
    "\n",
    "이걸 반복..?"
   ]
  },
  {
   "cell_type": "code",
   "execution_count": 1,
   "metadata": {},
   "outputs": [],
   "source": [
    "def solution(land):\n",
    "    answer = 0\n",
    "    N = len(land)\n",
    "    dp = [[0,0,0,0]for _ in range(N)]\n",
    "    dp[0] = land[0]\n",
    "    for i in range(1,N):\n",
    "        dp[i][0] = max(dp[i-1][1],dp[i-1][2],dp[i-1][3])+land[i][0]\n",
    "        dp[i][1] = max(dp[i-1][0],dp[i-1][2],dp[i-1][3])+land[i][1]\n",
    "        dp[i][2] = max(dp[i-1][1],dp[i-1][0],dp[i-1][3])+land[i][2]\n",
    "        dp[i][3] = max(dp[i-1][1],dp[i-1][2],dp[i-1][0])+land[i][3]\n",
    "    return max(dp[N-1])"
   ]
  },
  {
   "cell_type": "code",
   "execution_count": 2,
   "metadata": {},
   "outputs": [
    {
     "name": "stdout",
     "output_type": "stream",
     "text": [
      "16\n"
     ]
    }
   ],
   "source": [
    "land = [[1,2,3,5],[5,6,7,8],[4,3,2,1]]\n",
    "solution(land)"
   ]
  },
  {
   "cell_type": "code",
   "execution_count": null,
   "metadata": {},
   "outputs": [],
   "source": []
  }
 ],
 "metadata": {
  "kernelspec": {
   "display_name": "Python 3",
   "language": "python",
   "name": "python3"
  },
  "language_info": {
   "codemirror_mode": {
    "name": "ipython",
    "version": 3
   },
   "file_extension": ".py",
   "mimetype": "text/x-python",
   "name": "python",
   "nbconvert_exporter": "python",
   "pygments_lexer": "ipython3",
   "version": "3.9.10"
  },
  "orig_nbformat": 4,
  "vscode": {
   "interpreter": {
    "hash": "b0fa6594d8f4cbf19f97940f81e996739fb7646882a419484c72d19e05852a7e"
   }
  }
 },
 "nbformat": 4,
 "nbformat_minor": 2
}
