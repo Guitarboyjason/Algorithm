{
 "cells": [
  {
   "cell_type": "code",
   "execution_count": 1,
   "metadata": {},
   "outputs": [],
   "source": [
    "import re\n",
    "import copy"
   ]
  },
  {
   "cell_type": "code",
   "execution_count": 119,
   "metadata": {},
   "outputs": [],
   "source": [
    "def solution(str1, str2):\n",
    "\n",
    "    arr_str1 = [str1[i].lower()+ str1[i+1].lower()for i in range(len(str1)-1)]\n",
    "    arr_str2 = [str2[i].lower()+ str2[i+1].lower()for i in range(len(str2)-1)]\n",
    "    \n",
    "    arr_str1_eng_only = []\n",
    "    arr_str2_eng_only = []\n",
    "    for i in arr_str1:\n",
    "        arr_str1_eng_only.extend(re.findall(r\"[a-z]{2}\",i))\n",
    "    for i in arr_str2:\n",
    "        arr_str2_eng_only.extend(re.findall(r\"[a-z]{2}\",i))\n",
    "        \n",
    "    #전처리 완료\n",
    "    if len(arr_str1_eng_only) == 0 and len(arr_str2_eng_only) == 0:\n",
    "        return 65536    \n",
    "    dic_str1 = {}\n",
    "    dic_str2 = {}\n",
    "    for i in arr_str1_eng_only:\n",
    "        dic_str1[i] = arr_str1_eng_only.count(i)\n",
    "    for i in arr_str2_eng_only:\n",
    "        dic_str2[i] = arr_str2_eng_only.count(i)\n",
    "    # print(dic_str1)\n",
    "    merge_str = dic_str1.copy()\n",
    "    for i in dic_str2:\n",
    "        if i in merge_str:\n",
    "            merge_str[i] = max(dic_str1[i],dic_str2[i])\n",
    "        else:\n",
    "            merge_str[i] = dic_str2[i]\n",
    "    # 합집합 완성\n",
    "    # print(sum(merge_str.values()))\n",
    "    common_count = 0\n",
    "    # print(dic_str1)\n",
    "    # print(dic_str2)\n",
    "    for i in dic_str1:\n",
    "        if i in dic_str2:\n",
    "            # print(i)\n",
    "            # print(i in dic_str2)\n",
    "            # print(min(dic_str1[i],dic_str2[i]))\n",
    "            common_count += min(dic_str1[i],dic_str2[i])\n",
    "            \n",
    "    # print(merge_str)\n",
    "    # print(\"common_count : {}, merge_count : {}\".format(common_count,sum(merge_str.values())))\n",
    "    \n",
    "    return int(65536 * common_count / sum(merge_str.values()))\n",
    "    \n",
    "    # return answer"
   ]
  },
  {
   "cell_type": "code",
   "execution_count": 120,
   "metadata": {},
   "outputs": [],
   "source": [
    "str1 = \"FRANCE\"\n",
    "str2 = \"french\""
   ]
  },
  {
   "cell_type": "code",
   "execution_count": 122,
   "metadata": {},
   "outputs": [],
   "source": [
    "str1 = \"handshake\"\n",
    "str2 = \"shake hands\""
   ]
  },
  {
   "cell_type": "code",
   "execution_count": 124,
   "metadata": {},
   "outputs": [],
   "source": [
    "str1 = \"aa1+aa2\"\n",
    "str2 = \"AAAA12\""
   ]
  },
  {
   "cell_type": "code",
   "execution_count": 126,
   "metadata": {},
   "outputs": [],
   "source": [
    "str1 = \"E=M*C^2\"\n",
    "str2 = \"e=m*c^2\""
   ]
  },
  {
   "cell_type": "code",
   "execution_count": 127,
   "metadata": {},
   "outputs": [
    {
     "data": {
      "text/plain": [
       "65536"
      ]
     },
     "execution_count": 127,
     "metadata": {},
     "output_type": "execute_result"
    }
   ],
   "source": [
    "solution(str1,str2)"
   ]
  },
  {
   "cell_type": "code",
   "execution_count": null,
   "metadata": {},
   "outputs": [],
   "source": []
  },
  {
   "cell_type": "code",
   "execution_count": null,
   "metadata": {},
   "outputs": [],
   "source": []
  }
 ],
 "metadata": {
  "kernelspec": {
   "display_name": "Python 3",
   "language": "python",
   "name": "python3"
  },
  "language_info": {
   "codemirror_mode": {
    "name": "ipython",
    "version": 3
   },
   "file_extension": ".py",
   "mimetype": "text/x-python",
   "name": "python",
   "nbconvert_exporter": "python",
   "pygments_lexer": "ipython3",
   "version": "3.9.10"
  },
  "orig_nbformat": 4,
  "vscode": {
   "interpreter": {
    "hash": "b0fa6594d8f4cbf19f97940f81e996739fb7646882a419484c72d19e05852a7e"
   }
  }
 },
 "nbformat": 4,
 "nbformat_minor": 2
}
