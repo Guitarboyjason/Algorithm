{
 "cells": [
  {
   "cell_type": "code",
   "execution_count": 18,
   "metadata": {},
   "outputs": [],
   "source": [
    "from collections import deque\n",
    "def solution(bridge_length,weight,truck_weights):\n",
    "    answer = 0\n",
    "    bridge_queue = deque([0 for _ in range(bridge_length)])\n",
    "    truck_waits = deque(truck_weights)\n",
    "    now_trucks_weight = 0\n",
    "    while True:\n",
    "        if sum(bridge_queue) == 0 and len(truck_waits) == 0:\n",
    "            return answer\n",
    "        answer += 1\n",
    "        now_trucks_weight-= bridge_queue.popleft()\n",
    "        \n",
    "        if truck_waits and now_trucks_weight + truck_waits[0] <= weight:\n",
    "            going_truck = truck_waits.popleft()\n",
    "            bridge_queue.append(going_truck)\n",
    "            now_trucks_weight += going_truck\n",
    "        else:\n",
    "            bridge_queue.append(0)\n",
    "    \n",
    "    \n",
    "    "
   ]
  },
  {
   "cell_type": "code",
   "execution_count": 19,
   "metadata": {},
   "outputs": [
    {
     "name": "stdout",
     "output_type": "stream",
     "text": [
      "8\n"
     ]
    }
   ],
   "source": [
    "bridge_length = 2\n",
    "weight = 10\n",
    "truck_weights = [7,4,5,6]\n",
    "print(solution(bridge_length,weight,truck_weights))\n"
   ]
  },
  {
   "cell_type": "code",
   "execution_count": 20,
   "metadata": {},
   "outputs": [
    {
     "name": "stdout",
     "output_type": "stream",
     "text": [
      "101\n"
     ]
    }
   ],
   "source": [
    "bridge_length = 100\n",
    "weight = 100\n",
    "truck_weights = [10]\n",
    "print(solution(bridge_length,weight,truck_weights))"
   ]
  },
  {
   "cell_type": "code",
   "execution_count": 21,
   "metadata": {},
   "outputs": [
    {
     "name": "stdout",
     "output_type": "stream",
     "text": [
      "110\n"
     ]
    }
   ],
   "source": [
    "bridge_length = 100\n",
    "weight = 100\n",
    "truck_weights = [10,10,10,10,10,10,10,10,10,10]\n",
    "print(solution(bridge_length,weight,truck_weights))"
   ]
  },
  {
   "attachments": {},
   "cell_type": "markdown",
   "metadata": {},
   "source": [
    "1 2 1\n",
    "2 4 2\n",
    "100\n",
    "    100\n",
    "        10\n",
    "        1\n",
    "        100\n",
    "        \n",
    "100\n",
    "    100\n",
    "        10 10 10 10 10 10 10 10 10 10\n",
    "        10\n",
    "        \n",
    "        "
   ]
  }
 ],
 "metadata": {
  "kernelspec": {
   "display_name": "Python 3",
   "language": "python",
   "name": "python3"
  },
  "language_info": {
   "codemirror_mode": {
    "name": "ipython",
    "version": 3
   },
   "file_extension": ".py",
   "mimetype": "text/x-python",
   "name": "python",
   "nbconvert_exporter": "python",
   "pygments_lexer": "ipython3",
   "version": "3.9.10"
  },
  "orig_nbformat": 4,
  "vscode": {
   "interpreter": {
    "hash": "b0fa6594d8f4cbf19f97940f81e996739fb7646882a419484c72d19e05852a7e"
   }
  }
 },
 "nbformat": 4,
 "nbformat_minor": 2
}
