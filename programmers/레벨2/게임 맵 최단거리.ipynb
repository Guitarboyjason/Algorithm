{
 "cells": [
  {
   "cell_type": "code",
   "execution_count": 3,
   "metadata": {},
   "outputs": [],
   "source": [
    "def solution(maps):\n",
    "    answer = 0\n",
    "    return dfs(maps)\n",
    "    # return answer"
   ]
  },
  {
   "cell_type": "code",
   "execution_count": 2,
   "metadata": {},
   "outputs": [],
   "source": [
    "from collections import deque\n",
    "def dfs(maps):\n",
    "    directions = [(0,1),(0,-1),(1,0),(-1,0)]\n",
    "    stack = deque()\n",
    "    visited = {}\n",
    "    x,y = 0,0\n",
    "    stack.append((x,y))\n",
    "    i = 0\n",
    "    while stack:\n",
    "        x,y = stack.pop()\n",
    "        i += 1\n",
    "        if x == len(maps) and y == len(maps[0]):\n",
    "            return i\n",
    "        visited[(x,y)] = i\n",
    "        for s1,s2 in directions:\n",
    "            nx,ny = x+s1,y+s2\n",
    "            if 0<=nx<len(maps) and 0<=ny<len(maps[0]):\n",
    "                if (nx,ny) not in visited and maps[nx][ny] == 1:\n",
    "                    stack.append((nx,ny))\n",
    "    return -1      "
   ]
  },
  {
   "cell_type": "code",
   "execution_count": 9,
   "metadata": {},
   "outputs": [],
   "source": [
    "# def solution()\n",
    "directions = [(0,0),(0,1),(0,-1),(1,0),(-1,0)]\n",
    "def bfs(maps):\n",
    "    n = len(maps)\n",
    "    m = len(maps[0])\n",
    "    visited = [[-1 for _ in range(m)]for _ in range(n)]\n",
    "    queue = deque()\n",
    "    queue.append((0,0,1))\n",
    "    while queue:\n",
    "        x,y,steps = queue.popleft()\n",
    "        if visited[x][y] == -1 or visited[x][y] > steps:\n",
    "            visited[x][y] = steps\n",
    "            for s1,s2 in directions:\n",
    "                nx,ny = x+s1,y+s2\n",
    "                if 0<=nx<n and 0<=ny<m and maps[nx][ny] == 1:\n",
    "                    # if visited[nx][ny] == -1 or visited[nx][ny] > steps+1:\n",
    "                    queue.append((nx,ny,steps+1))\n",
    "    return visited[n-1][m-1]\n",
    "                        \n",
    "                \n",
    "    "
   ]
  },
  {
   "cell_type": "code",
   "execution_count": 10,
   "metadata": {},
   "outputs": [],
   "source": [
    "maps=[[1,0,1,1,1],[1,0,1,0,1],[1,0,1,1,1],[1,1,1,0,1],[0,0,0,0,1]]\t\n"
   ]
  },
  {
   "cell_type": "code",
   "execution_count": 11,
   "metadata": {},
   "outputs": [
    {
     "name": "stdout",
     "output_type": "stream",
     "text": [
      "11\n"
     ]
    }
   ],
   "source": [
    "print(bfs(maps))"
   ]
  },
  {
   "cell_type": "code",
   "execution_count": null,
   "metadata": {},
   "outputs": [],
   "source": []
  }
 ],
 "metadata": {
  "kernelspec": {
   "display_name": "Python 3",
   "language": "python",
   "name": "python3"
  },
  "language_info": {
   "codemirror_mode": {
    "name": "ipython",
    "version": 3
   },
   "file_extension": ".py",
   "mimetype": "text/x-python",
   "name": "python",
   "nbconvert_exporter": "python",
   "pygments_lexer": "ipython3",
   "version": "3.9.10"
  },
  "orig_nbformat": 4,
  "vscode": {
   "interpreter": {
    "hash": "b0fa6594d8f4cbf19f97940f81e996739fb7646882a419484c72d19e05852a7e"
   }
  }
 },
 "nbformat": 4,
 "nbformat_minor": 2
}
