{
 "cells": [
  {
   "cell_type": "code",
   "execution_count": 10,
   "metadata": {},
   "outputs": [],
   "source": [
    "def time_cal(musicinfos):\n",
    "    times = []\n",
    "    for musicinfo in musicinfos:\n",
    "        start,end,title,lines = musicinfo.split(\",\")\n",
    "        start_hour,start_min = map(int,start.split(\":\"))\n",
    "        end_hour,end_min = map(int,end.split(\":\"))\n",
    "        if end_hour < start_hour or end_hour==start_hour and end_min < start_min:\n",
    "            end_hour += 24\n",
    "        during_hour = 60 *(int(end_hour)-int(start_hour))\n",
    "        during_min = int(end_min) - int(start_min)\n",
    "        during_time = during_hour + during_min\n",
    "        if during_time < 0:\n",
    "            during_time = 24*60 + during_min\n",
    "        times.append(during_time)\n",
    "    return times"
   ]
  },
  {
   "cell_type": "code",
   "execution_count": 72,
   "metadata": {},
   "outputs": [],
   "source": [
    "import re\n",
    "def time_cal(musicinfos):\n",
    "    times = []\n",
    "    for musicinfo in musicinfos:\n",
    "        start,end,title,lines = musicinfo.split(\",\")\n",
    "        start_hour,start_min = map(int,start.split(\":\"))\n",
    "        end_hour,end_min = map(int,end.split(\":\"))\n",
    "        if end_hour < start_hour or end_hour==start_hour and end_min < start_min:\n",
    "            end_hour += 24\n",
    "        during_hour = 60 *(int(end_hour)-int(start_hour))\n",
    "        during_min = int(end_min) - int(start_min)\n",
    "        during_time = during_hour + during_min\n",
    "        if during_time < 0:\n",
    "            during_time = 24*60 + during_min\n",
    "        times.append(during_time)\n",
    "    return times\n",
    "def solution(m,musicinfos):\n",
    "    answer = \"\"\n",
    "    long_time = 0\n",
    "    times = time_cal(musicinfos)\n",
    "    for index,musicinfo in enumerate(musicinfos):\n",
    "        start,end,title,lines = musicinfo.split(\",\")\n",
    "        if len(lines.replace(\"#\",\"\"))<times[index]:\n",
    "            if times[index]%len(lines.replace(\"#\",\"\")) != 0:\n",
    "                lines*=(times[index]//len(lines.replace(\"#\",\"\"))+1)\n",
    "            else:\n",
    "                lines*=times[index]//len(lines.replace(\"#\",\"\"))\n",
    "            # print(lines)\n",
    "        elif len(lines.replace(\"#\",\"\"))!=times[index]:\n",
    "            tmp = times[index]\n",
    "            i = 0\n",
    "            cnt = 0\n",
    "            while tmp > cnt:\n",
    "                if lines[cnt] == \"#\":\n",
    "                    i += 1\n",
    "                i += 1\n",
    "                cnt += 1            \n",
    "            lines = lines[:i]\n",
    "        print(lines)\n",
    "        # lines = list(lines)\n",
    "        # for i in range(len(lines)):\n",
    "        #     if lines[i] == \n",
    "        if m in lines :\n",
    "            simmiar_index_list = list(i.start() for i in re.finditer(m,lines))\n",
    "            \n",
    "            # simmiar_index = lines.index(m)\n",
    "            flag = False\n",
    "            for similar_index in simmiar_index_list:\n",
    "                if m[-1] == \"#\" and lines[similar_index+len(m)-1] !=\"#\" or \\\n",
    "                m[-1] != \"#\" and len(lines) > similar_index+len(m) and lines[similar_index+len(m)] == \"#\":\n",
    "                    continue\n",
    "                flag = True\n",
    "            if not flag:\n",
    "                continue\n",
    "            # for i in range(simmiar_index,simmiar_index+len(m)):\n",
    "            if long_time < times[index]:\n",
    "                answer = title\n",
    "                long_time = times[index]\n",
    "    # print(times)\n",
    "    if answer:\n",
    "        return answer\n",
    "    return \"(None)\"\n",
    "    # return answer"
   ]
  },
  {
   "attachments": {},
   "cell_type": "markdown",
   "metadata": {},
   "source": [
    "2:30 ~ 3:20\n",
    "20 - 30 = -10\n",
    "3 - 2 = 1\n",
    "--> 60 - 10 = 50\n",
    "\n",
    "12:30 ~ 12:29\n",
    "29 - 30 = -1\n",
    "12 - 12 = 0\n",
    "--> -1\n",
    "--> 24*60 - 1\n",
    "\n",
    "23:30 ~ 00:40\n",
    "--> 40 - 30 = 10\n",
    "00 - 23 = -23"
   ]
  },
  {
   "cell_type": "code",
   "execution_count": 73,
   "metadata": {},
   "outputs": [
    {
     "name": "stdout",
     "output_type": "stream",
     "text": [
      "DDFDDFDDFDDFDDFDDFDDFDDFDDFDDF\n",
      "TEST\n"
     ]
    }
   ],
   "source": [
    "# print(solution(\"ABC\",[\"12:00,12:06,HELLO,ABC#ABC#ABC\"]))\n",
    "print(solution(\"DF\", [\"6:20,6:50,TEST,DDF\"]))"
   ]
  },
  {
   "cell_type": "code",
   "execution_count": 41,
   "metadata": {},
   "outputs": [],
   "source": [
    "m = \"ABCDEFG\"\n",
    "musicinfos = [\"12:00,12:14,HELLO,CDEFGAB\", \"13:00,13:05,WORLD,ABCDEF\"]"
   ]
  },
  {
   "cell_type": "code",
   "execution_count": 42,
   "metadata": {},
   "outputs": [
    {
     "ename": "NameError",
     "evalue": "name 'music' is not defined",
     "output_type": "error",
     "traceback": [
      "\u001b[0;31m---------------------------------------------------------------------------\u001b[0m",
      "\u001b[0;31mNameError\u001b[0m                                 Traceback (most recent call last)",
      "\u001b[1;32m/Users/jason/PycharmProjects/programmers/레벨2/[3차] 방금그곡.ipynb 셀 5\u001b[0m in \u001b[0;36m<module>\u001b[0;34m\u001b[0m\n\u001b[1;32m      <a href='vscode-notebook-cell:/Users/jason/PycharmProjects/programmers/%EB%A0%88%EB%B2%A82/%5B3%EC%B0%A8%5D%20%EB%B0%A9%EA%B8%88%EA%B7%B8%EA%B3%A1.ipynb#X12sZmlsZQ%3D%3D?line=0'>1</a>\u001b[0m m \u001b[39m=\u001b[39m \u001b[39m\"\u001b[39m\u001b[39mCC#BCC#BCC#BCC#B\u001b[39m\u001b[39m\"\u001b[39m\n\u001b[0;32m----> <a href='vscode-notebook-cell:/Users/jason/PycharmProjects/programmers/%EB%A0%88%EB%B2%A82/%5B3%EC%B0%A8%5D%20%EB%B0%A9%EA%B8%88%EA%B7%B8%EA%B3%A1.ipynb#X12sZmlsZQ%3D%3D?line=1'>2</a>\u001b[0m music\n",
      "\u001b[0;31mNameError\u001b[0m: name 'music' is not defined"
     ]
    }
   ],
   "source": [
    "m = \"CC#BCC#BCC#BCC#B\"\n",
    "# music"
   ]
  },
  {
   "cell_type": "code",
   "execution_count": 50,
   "metadata": {},
   "outputs": [
    {
     "name": "stdout",
     "output_type": "stream",
     "text": [
      "CDEFGABCDEFGAB\n",
      "ABCDEF\n",
      "\n"
     ]
    }
   ],
   "source": [
    "print(solution(m,musicinfos))"
   ]
  },
  {
   "cell_type": "code",
   "execution_count": 51,
   "metadata": {},
   "outputs": [
    {
     "name": "stdout",
     "output_type": "stream",
     "text": [
      "C#DEFGABC#DEFGAB\n",
      "ABCDEF\n",
      "WORLD\n"
     ]
    }
   ],
   "source": [
    "print(solution(\"ABC\", [\"12:00,12:14,HELLO,C#DEFGAB\", \"13:00,13:05,WORLD,ABCDEF\"]))"
   ]
  },
  {
   "cell_type": "code",
   "execution_count": null,
   "metadata": {},
   "outputs": [],
   "source": []
  }
 ],
 "metadata": {
  "kernelspec": {
   "display_name": "Python 3",
   "language": "python",
   "name": "python3"
  },
  "language_info": {
   "codemirror_mode": {
    "name": "ipython",
    "version": 3
   },
   "file_extension": ".py",
   "mimetype": "text/x-python",
   "name": "python",
   "nbconvert_exporter": "python",
   "pygments_lexer": "ipython3",
   "version": "3.9.10"
  },
  "orig_nbformat": 4,
  "vscode": {
   "interpreter": {
    "hash": "b0fa6594d8f4cbf19f97940f81e996739fb7646882a419484c72d19e05852a7e"
   }
  }
 },
 "nbformat": 4,
 "nbformat_minor": 2
}
