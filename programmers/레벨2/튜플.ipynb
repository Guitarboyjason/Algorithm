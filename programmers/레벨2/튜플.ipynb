{
 "cells": [
  {
   "attachments": {},
   "cell_type": "markdown",
   "metadata": {},
   "source": [
    "길이 순서대로 정렬한 후에 없는 원소들을 하나씩 더해가면 될 것."
   ]
  },
  {
   "cell_type": "code",
   "execution_count": 32,
   "metadata": {},
   "outputs": [],
   "source": [
    "def solution(s):\n",
    "    answer = []\n",
    "    s_list = []\n",
    "    tmp_list = []\n",
    "    word= \"\"\n",
    "    # print(list(s))\n",
    "    for i in s[1:-1]:\n",
    "        if i == \"{\":\n",
    "            tmp_list = []\n",
    "        elif i == \"}\":\n",
    "            s_list.append(tmp_list)\n",
    "        elif i in \"0123456789\":\n",
    "            word+=i\n",
    "        else:   #comma\n",
    "            tmp_list.append(int(word))\n",
    "            word = \"\"\n",
    "    tmp_list.append(int(word))\n",
    "    s_list = sorted(s_list,key = lambda object : len(object))\n",
    "    # print(s_list)\n",
    "    # print()\n",
    "    for i in s_list:\n",
    "        for j in i:\n",
    "            if j not in answer:\n",
    "                answer.append(j)\n",
    "                # print(j)\n",
    "                # print(answer)\n",
    "                break\n",
    "        \n",
    "    return answer\n"
   ]
  },
  {
   "cell_type": "code",
   "execution_count": 33,
   "metadata": {},
   "outputs": [
    {
     "name": "stdout",
     "output_type": "stream",
     "text": [
      "[2, 1, 3, 4]\n"
     ]
    }
   ],
   "source": [
    "s = \"{{2},{2,1},{2,1,3},{2,1,3,4}}\"\n",
    "print(solution(s))"
   ]
  },
  {
   "cell_type": "code",
   "execution_count": null,
   "metadata": {},
   "outputs": [],
   "source": []
  }
 ],
 "metadata": {
  "kernelspec": {
   "display_name": "Python 3",
   "language": "python",
   "name": "python3"
  },
  "language_info": {
   "codemirror_mode": {
    "name": "ipython",
    "version": 3
   },
   "file_extension": ".py",
   "mimetype": "text/x-python",
   "name": "python",
   "nbconvert_exporter": "python",
   "pygments_lexer": "ipython3",
   "version": "3.9.10"
  },
  "orig_nbformat": 4,
  "vscode": {
   "interpreter": {
    "hash": "b0fa6594d8f4cbf19f97940f81e996739fb7646882a419484c72d19e05852a7e"
   }
  }
 },
 "nbformat": 4,
 "nbformat_minor": 2
}
