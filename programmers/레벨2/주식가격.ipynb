{
 "cells": [
  {
   "cell_type": "code",
   "execution_count": null,
   "metadata": {},
   "outputs": [],
   "source": [
    "def solution(prices):\n",
    "    answer = []\n",
    "    prices = reversed(prices)\n",
    "    dp = [-1 for _ in range(len(prices))]\n",
    "    dp[0] = 0\n",
    "    for i in range(1,len(prices)):\n",
    "        if prices[i-1] \n",
    "    return answer"
   ]
  },
  {
   "cell_type": "code",
   "execution_count": 22,
   "metadata": {},
   "outputs": [],
   "source": [
    "from collections import deque\n",
    "def solution(prices):\n",
    "    answer = []\n",
    "    prices = deque(prices)\n",
    "    stack = deque()\n",
    "    for i, price in enumerate(prices):\n",
    "        if len(stack) == 0:\n",
    "            stack.append([i,price])\n",
    "        else:\n",
    "            while stack:\n",
    "                # print(stack)\n",
    "                compare = stack.pop()\n",
    "                if compare[1] <= price:\n",
    "                    stack.append(compare)\n",
    "                    stack.append([i,price])\n",
    "                    break\n",
    "                else:\n",
    "                    answer.append(i-compare[0])\n",
    "        print(answer,stack)\n",
    "    while stack:\n",
    "        answer.append(stack.pop()[0])\n",
    "    return answer\n",
    "    "
   ]
  },
  {
   "cell_type": "code",
   "execution_count": 23,
   "metadata": {},
   "outputs": [],
   "source": [
    "prices = [1,2,3,2,3]"
   ]
  },
  {
   "cell_type": "code",
   "execution_count": 24,
   "metadata": {},
   "outputs": [
    {
     "name": "stdout",
     "output_type": "stream",
     "text": [
      "[] deque([[0, 1]])\n",
      "[] deque([[0, 1], [1, 2]])\n",
      "[] deque([[0, 1], [1, 2], [2, 3]])\n",
      "[1] deque([[0, 1], [1, 2], [3, 2]])\n",
      "[1] deque([[0, 1], [1, 2], [3, 2], [4, 3]])\n",
      "[1, 4, 3, 1, 0]\n"
     ]
    }
   ],
   "source": [
    "print(solution(prices))"
   ]
  },
  {
   "cell_type": "code",
   "execution_count": null,
   "metadata": {},
   "outputs": [],
   "source": []
  }
 ],
 "metadata": {
  "kernelspec": {
   "display_name": "Python 3",
   "language": "python",
   "name": "python3"
  },
  "language_info": {
   "codemirror_mode": {
    "name": "ipython",
    "version": 3
   },
   "file_extension": ".py",
   "mimetype": "text/x-python",
   "name": "python",
   "nbconvert_exporter": "python",
   "pygments_lexer": "ipython3",
   "version": "3.9.10"
  },
  "orig_nbformat": 4,
  "vscode": {
   "interpreter": {
    "hash": "b0fa6594d8f4cbf19f97940f81e996739fb7646882a419484c72d19e05852a7e"
   }
  }
 },
 "nbformat": 4,
 "nbformat_minor": 2
}
