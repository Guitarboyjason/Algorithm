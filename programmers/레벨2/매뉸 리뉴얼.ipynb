{
 "cells": [
  {
   "cell_type": "code",
   "execution_count": 11,
   "metadata": {},
   "outputs": [],
   "source": [
    "from itertools import combinations\n",
    "from collections import Counter\n"
   ]
  },
  {
   "cell_type": "code",
   "execution_count": 82,
   "metadata": {},
   "outputs": [],
   "source": [
    "def solution(orders,course):\n",
    "    answer = []\n",
    "    tmp = []\n",
    "    # max_len_order = len(max(orders,key=lambda x : len(x)))\n",
    "    # print(max_len_order)\n",
    "    for i in course:\n",
    "        # if max_len_order >= i:\n",
    "        for order in orders:\n",
    "            answer.extend(list(combinations(sorted(order),i)))\n",
    "        if len(answer):\n",
    "            max_count = max(Counter(answer).items(),key = lambda x : x[1])[1]\n",
    "            if max_count >= 2:\n",
    "                for counter in Counter(answer).items():\n",
    "                    if counter[1] == max_count:\n",
    "                        tmp.append(\"\".join(counter[0]))\n",
    "            answer = []\n",
    "    tmp.sort()\n",
    "    return tmp\n",
    "    # print(answer)\n",
    "    \n",
    "    "
   ]
  },
  {
   "cell_type": "code",
   "execution_count": 83,
   "metadata": {},
   "outputs": [],
   "source": [
    "orders = [\"XYZ\", \"XWY\", \"WXA\"]\n",
    "course = [2,3,4]"
   ]
  },
  {
   "cell_type": "code",
   "execution_count": 68,
   "metadata": {},
   "outputs": [],
   "source": [
    "orders = [\"ABCFG\", \"AC\", \"CDE\", \"ACDE\", \"BCFG\", \"ACDEH\"]\n",
    "course = [2,3,4]\n"
   ]
  },
  {
   "cell_type": "code",
   "execution_count": 66,
   "metadata": {},
   "outputs": [],
   "source": [
    "orders = [\"ABCDE\", \"AB\", \"CD\", \"ADE\", \"XYZ\", \"XYZ\", \"ACD\"]\n",
    "course = [2,3,5]"
   ]
  },
  {
   "cell_type": "code",
   "execution_count": 84,
   "metadata": {},
   "outputs": [
    {
     "name": "stdout",
     "output_type": "stream",
     "text": [
      "['WX', 'XY']\n"
     ]
    }
   ],
   "source": [
    "print(solution(orders,course))"
   ]
  },
  {
   "cell_type": "code",
   "execution_count": null,
   "metadata": {},
   "outputs": [],
   "source": []
  }
 ],
 "metadata": {
  "kernelspec": {
   "display_name": "Python 3",
   "language": "python",
   "name": "python3"
  },
  "language_info": {
   "codemirror_mode": {
    "name": "ipython",
    "version": 3
   },
   "file_extension": ".py",
   "mimetype": "text/x-python",
   "name": "python",
   "nbconvert_exporter": "python",
   "pygments_lexer": "ipython3",
   "version": "3.9.10"
  },
  "orig_nbformat": 4,
  "vscode": {
   "interpreter": {
    "hash": "b0fa6594d8f4cbf19f97940f81e996739fb7646882a419484c72d19e05852a7e"
   }
  }
 },
 "nbformat": 4,
 "nbformat_minor": 2
}
