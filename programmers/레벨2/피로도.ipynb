{
 "cells": [
  {
   "cell_type": "code",
   "execution_count": 12,
   "metadata": {},
   "outputs": [],
   "source": [
    "def solution(k, dungeons):\n",
    "    answer = []\n",
    "    if len(dungeons) == 0:\n",
    "        return 1\n",
    "    if min(dungeons,key=lambda x : x[0])[0] > k:\n",
    "        return 0\n",
    "    for i in range(len(dungeons)):\n",
    "        if dungeons[i][0] < k:\n",
    "            answer.append(1+solution(k-dungeons[i][1],dungeons[:i]+dungeons[i+1:]))\n",
    "\n",
    "    # dungeons.sort(key=lambda x : x[1])\n",
    "    # dungeons.sort(key=lambda x : x[0],reverse = True)\n",
    "    # for i in dungeons:\n",
    "    print(answer)\n",
    "    return answerㅠ="
   ]
  },
  {
   "cell_type": "code",
   "execution_count": 33,
   "metadata": {},
   "outputs": [],
   "source": [
    "from itertools import permutations\n",
    "def solution(k,dungeons):\n",
    "    max_count = -1\n",
    "    for p in permutations(dungeons,len(dungeons)):\n",
    "        remain = k\n",
    "        count = 0\n",
    "        for need_min,cost in p:\n",
    "            # print(need_min,cost)\n",
    "            if need_min > remain :\n",
    "                if count > max_count:\n",
    "                    max_count = count\n",
    "                    break\n",
    "            else:\n",
    "                count += 1\n",
    "                remain -= cost\n",
    "            if count>max_count:\n",
    "                max_count = count\n",
    "    return max_count"
   ]
  },
  {
   "cell_type": "code",
   "execution_count": 34,
   "metadata": {},
   "outputs": [],
   "source": [
    "k = 80\n",
    "dungeons = [[80,20],[50,40],[30,10]]"
   ]
  },
  {
   "cell_type": "code",
   "execution_count": 35,
   "metadata": {},
   "outputs": [
    {
     "name": "stdout",
     "output_type": "stream",
     "text": [
      "3\n"
     ]
    }
   ],
   "source": [
    "print(solution(k,dungeons))"
   ]
  },
  {
   "cell_type": "code",
   "execution_count": null,
   "metadata": {},
   "outputs": [],
   "source": []
  }
 ],
 "metadata": {
  "kernelspec": {
   "display_name": "Python 3",
   "language": "python",
   "name": "python3"
  },
  "language_info": {
   "codemirror_mode": {
    "name": "ipython",
    "version": 3
   },
   "file_extension": ".py",
   "mimetype": "text/x-python",
   "name": "python",
   "nbconvert_exporter": "python",
   "pygments_lexer": "ipython3",
   "version": "3.9.10"
  },
  "orig_nbformat": 4,
  "vscode": {
   "interpreter": {
    "hash": "b0fa6594d8f4cbf19f97940f81e996739fb7646882a419484c72d19e05852a7e"
   }
  }
 },
 "nbformat": 4,
 "nbformat_minor": 2
}
