{
 "cells": [
  {
   "cell_type": "code",
   "execution_count": 9,
   "metadata": {},
   "outputs": [],
   "source": [
    "def solution(k, dungeons):\n",
    "    answer = []\n",
    "    if len(dungeons) == 0:\n",
    "        return 1\n",
    "    if min(dungeons,key=lambda x : x[0])[0] > k:\n",
    "        return 0\n",
    "    for i in range(len(dungeons)):\n",
    "        if dungeons[i][0] < k:\n",
    "            answer.append(1+solution(k-dungeons[i][1],dungeons[:i]+dungeons[i+1:]))\n",
    "\n",
    "    # dungeons.sort(key=lambda x : x[1])\n",
    "    # dungeons.sort(key=lambda x : x[0],reverse = True)\n",
    "    # for i in dungeons:\n",
    "    print(answer)\n",
    "    return answer"
   ]
  },
  {
   "cell_type": "code",
   "execution_count": 10,
   "metadata": {},
   "outputs": [],
   "source": [
    "k = 80\n",
    "dungeons = [[80,20],[50,40],[30,10]]"
   ]
  },
  {
   "cell_type": "code",
   "execution_count": 11,
   "metadata": {},
   "outputs": [
    {
     "ename": "TypeError",
     "evalue": "'>' not supported between instances of 'list' and 'int'",
     "output_type": "error",
     "traceback": [
      "\u001b[0;31m---------------------------------------------------------------------------\u001b[0m",
      "\u001b[0;31mTypeError\u001b[0m                                 Traceback (most recent call last)",
      "\u001b[1;32m/Users/jason/PycharmProjects/programmers/레벨2/피로도.ipynb 셀 3\u001b[0m in \u001b[0;36m<module>\u001b[0;34m\u001b[0m\n\u001b[0;32m----> <a href='vscode-notebook-cell:/Users/jason/PycharmProjects/programmers/%EB%A0%88%EB%B2%A82/%ED%94%BC%EB%A1%9C%EB%8F%84.ipynb#W2sZmlsZQ%3D%3D?line=0'>1</a>\u001b[0m \u001b[39mprint\u001b[39m(solution(k,dungeons))\n",
      "\u001b[1;32m/Users/jason/PycharmProjects/programmers/레벨2/피로도.ipynb 셀 3\u001b[0m in \u001b[0;36msolution\u001b[0;34m(k, dungeons)\u001b[0m\n\u001b[1;32m      <a href='vscode-notebook-cell:/Users/jason/PycharmProjects/programmers/%EB%A0%88%EB%B2%A82/%ED%94%BC%EB%A1%9C%EB%8F%84.ipynb#W2sZmlsZQ%3D%3D?line=2'>3</a>\u001b[0m \u001b[39mif\u001b[39;00m \u001b[39mlen\u001b[39m(dungeons) \u001b[39m==\u001b[39m \u001b[39m0\u001b[39m:\n\u001b[1;32m      <a href='vscode-notebook-cell:/Users/jason/PycharmProjects/programmers/%EB%A0%88%EB%B2%A82/%ED%94%BC%EB%A1%9C%EB%8F%84.ipynb#W2sZmlsZQ%3D%3D?line=3'>4</a>\u001b[0m     \u001b[39mreturn\u001b[39;00m \u001b[39m1\u001b[39m\n\u001b[0;32m----> <a href='vscode-notebook-cell:/Users/jason/PycharmProjects/programmers/%EB%A0%88%EB%B2%A82/%ED%94%BC%EB%A1%9C%EB%8F%84.ipynb#W2sZmlsZQ%3D%3D?line=4'>5</a>\u001b[0m \u001b[39mif\u001b[39;00m \u001b[39mmin\u001b[39;49m(dungeons,key\u001b[39m=\u001b[39;49m\u001b[39mlambda\u001b[39;49;00m x : x[\u001b[39m0\u001b[39;49m]) \u001b[39m>\u001b[39;49m k:\n\u001b[1;32m      <a href='vscode-notebook-cell:/Users/jason/PycharmProjects/programmers/%EB%A0%88%EB%B2%A82/%ED%94%BC%EB%A1%9C%EB%8F%84.ipynb#W2sZmlsZQ%3D%3D?line=5'>6</a>\u001b[0m     \u001b[39mreturn\u001b[39;00m \u001b[39m0\u001b[39m\n\u001b[1;32m      <a href='vscode-notebook-cell:/Users/jason/PycharmProjects/programmers/%EB%A0%88%EB%B2%A82/%ED%94%BC%EB%A1%9C%EB%8F%84.ipynb#W2sZmlsZQ%3D%3D?line=6'>7</a>\u001b[0m \u001b[39mfor\u001b[39;00m i \u001b[39min\u001b[39;00m \u001b[39mrange\u001b[39m(\u001b[39mlen\u001b[39m(dungeons)):\n",
      "\u001b[0;31mTypeError\u001b[0m: '>' not supported between instances of 'list' and 'int'"
     ]
    }
   ],
   "source": [
    "print(solution(k,dungeons))"
   ]
  },
  {
   "cell_type": "code",
   "execution_count": null,
   "metadata": {},
   "outputs": [],
   "source": []
  }
 ],
 "metadata": {
  "kernelspec": {
   "display_name": "Python 3",
   "language": "python",
   "name": "python3"
  },
  "language_info": {
   "codemirror_mode": {
    "name": "ipython",
    "version": 3
   },
   "file_extension": ".py",
   "mimetype": "text/x-python",
   "name": "python",
   "nbconvert_exporter": "python",
   "pygments_lexer": "ipython3",
   "version": "3.9.10"
  },
  "orig_nbformat": 4,
  "vscode": {
   "interpreter": {
    "hash": "b0fa6594d8f4cbf19f97940f81e996739fb7646882a419484c72d19e05852a7e"
   }
  }
 },
 "nbformat": 4,
 "nbformat_minor": 2
}
