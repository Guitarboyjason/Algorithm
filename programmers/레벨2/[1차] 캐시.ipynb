{
 "cells": [
  {
   "attachments": {},
   "cell_type": "markdown",
   "metadata": {},
   "source": [
    "cache hit일 경우 실행시간 1\n",
    "\n",
    "cache miss일 경우 실행시간 5\n",
    "\n",
    "cache는 LRU"
   ]
  },
  {
   "cell_type": "code",
   "execution_count": 22,
   "metadata": {},
   "outputs": [
    {
     "name": "stdout",
     "output_type": "stream",
     "text": [
      "60\n"
     ]
    }
   ],
   "source": [
    "def solution(cacheSize, cities):\n",
    "    answer = 0\n",
    "    cache_hit = 1\n",
    "    cache_miss = 5\n",
    "    cache = dict()\n",
    "    if cacheSize == 0:\n",
    "        return len(cities) * 5\n",
    "    for index,i in enumerate(cities):\n",
    "        i = i.lower()\n",
    "        if len(cache) < cacheSize :\n",
    "            if i not in cache:\n",
    "                answer += 5\n",
    "            else:\n",
    "                answer += 1\n",
    "            cache[i] = index\n",
    "        else:\n",
    "            if i in cache.keys():\n",
    "                answer += 1\n",
    "                cache[i] = index\n",
    "            else:\n",
    "                # cache = sorted(cache.items,key = lambda item : item[1],reverse=True)\n",
    "                # print(min(cache.items()))\n",
    "                # print(cache.items())\n",
    "                LRU = min(cache.items(),key= lambda item : item[1])\n",
    "                # print(LRU)\n",
    "                del cache[LRU[0]]\n",
    "                answer += 5\n",
    "                cache[i] = index\n",
    "    return answer\n",
    "    \n",
    "print(solution(3,[\"Jeju\", \"Pangyo\", \"Seoul\", \"NewYork\", \"LA\", \"SanFrancisco\", \"Seoul\", \"Rome\", \"Paris\", \"Jeju\", \"NewYork\", \"Rome\"]))"
   ]
  },
  {
   "cell_type": "code",
   "execution_count": null,
   "metadata": {},
   "outputs": [],
   "source": []
  }
 ],
 "metadata": {
  "kernelspec": {
   "display_name": "Python 3",
   "language": "python",
   "name": "python3"
  },
  "language_info": {
   "codemirror_mode": {
    "name": "ipython",
    "version": 3
   },
   "file_extension": ".py",
   "mimetype": "text/x-python",
   "name": "python",
   "nbconvert_exporter": "python",
   "pygments_lexer": "ipython3",
   "version": "3.9.10"
  },
  "orig_nbformat": 4,
  "vscode": {
   "interpreter": {
    "hash": "b0fa6594d8f4cbf19f97940f81e996739fb7646882a419484c72d19e05852a7e"
   }
  }
 },
 "nbformat": 4,
 "nbformat_minor": 2
}
