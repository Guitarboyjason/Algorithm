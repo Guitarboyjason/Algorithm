{
 "cells": [
  {
   "attachments": {},
   "cell_type": "markdown",
   "metadata": {},
   "source": [
    "num을 n진법 수라고 할 때, 최대 구해야 하는 수의 갯수는\n",
    "\n",
    "len(return)이 t*m 만큼은 돼야 한다."
   ]
  },
  {
   "cell_type": "code",
   "execution_count": 54,
   "metadata": {},
   "outputs": [
    {
     "name": "stdout",
     "output_type": "stream",
     "text": [
      "A\n"
     ]
    }
   ],
   "source": [
    "print(chr(65))"
   ]
  },
  {
   "cell_type": "code",
   "execution_count": 55,
   "metadata": {},
   "outputs": [],
   "source": [
    "def d_trans(n,t,m):\n",
    "    num = \"0\"\n",
    "    i = 1\n",
    "    while len(num)<=(m*(t+1)):\n",
    "        tmp = i\n",
    "        tmp_num = \"\"\n",
    "        while tmp:\n",
    "            if tmp%n >= 10:\n",
    "                tmp_num+=chr(tmp%n+55)\n",
    "            else:\n",
    "                tmp_num += str(tmp%n)\n",
    "            tmp //=n\n",
    "        # print(num)\n",
    "        num += tmp_num[::-1]\n",
    "        i+=1\n",
    "    return num\n",
    "\n",
    "def solution(n, t, m, p):\n",
    "    answer = ''\n",
    "    num = d_trans(n,t,m)\n",
    "    # print(num)\n",
    "    while t:\n",
    "        answer += num[p-1]\n",
    "        num = num[m:]\n",
    "        # print(num,answer)\n",
    "        t -= 1\n",
    "    return answer"
   ]
  },
  {
   "cell_type": "code",
   "execution_count": 57,
   "metadata": {},
   "outputs": [],
   "source": [
    "n = 2\n",
    "t = 4\n",
    "m = 2\n",
    "p = 1\n"
   ]
  },
  {
   "cell_type": "code",
   "execution_count": 59,
   "metadata": {},
   "outputs": [],
   "source": [
    "n = 16\n",
    "t = 16\n",
    "m = 2\n",
    "p = 1"
   ]
  },
  {
   "cell_type": "code",
   "execution_count": 61,
   "metadata": {},
   "outputs": [],
   "source": [
    "n = 16\n",
    "t = 16\n",
    "m = 2\n",
    "p = 2\n"
   ]
  },
  {
   "cell_type": "code",
   "execution_count": 62,
   "metadata": {},
   "outputs": [
    {
     "name": "stdout",
     "output_type": "stream",
     "text": [
      "13579BDF01234567\n"
     ]
    }
   ],
   "source": [
    "print(solution(n,t,m,p))"
   ]
  },
  {
   "cell_type": "code",
   "execution_count": null,
   "metadata": {},
   "outputs": [],
   "source": []
  },
  {
   "cell_type": "code",
   "execution_count": null,
   "metadata": {},
   "outputs": [],
   "source": []
  }
 ],
 "metadata": {
  "kernelspec": {
   "display_name": "Python 3",
   "language": "python",
   "name": "python3"
  },
  "language_info": {
   "codemirror_mode": {
    "name": "ipython",
    "version": 3
   },
   "file_extension": ".py",
   "mimetype": "text/x-python",
   "name": "python",
   "nbconvert_exporter": "python",
   "pygments_lexer": "ipython3",
   "version": "3.9.10"
  },
  "orig_nbformat": 4,
  "vscode": {
   "interpreter": {
    "hash": "b0fa6594d8f4cbf19f97940f81e996739fb7646882a419484c72d19e05852a7e"
   }
  }
 },
 "nbformat": 4,
 "nbformat_minor": 2
}
