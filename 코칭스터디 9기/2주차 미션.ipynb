{
 "cells": [
  {
   "cell_type": "code",
   "execution_count": 6,
   "metadata": {},
   "outputs": [
    {
     "name": "stdout",
     "output_type": "stream",
     "text": [
      "62.5\n"
     ]
    }
   ],
   "source": [
    "#Q1. 중간고사 기말고사 점수를 따로 받아 저장하는 클래스 구현\n",
    "# 생성자의 인스턴스는 private\n",
    "# test score, mid : 50, final : 75\n",
    "class Score():\n",
    "    #TODO\n",
    "    def __init__(self,mid,final):\n",
    "        self.__mid = mid\n",
    "        self.__final = final\n",
    "    @property\n",
    "    def mid(self):\n",
    "        return self.__mid\n",
    "    @property\n",
    "    def final(self):\n",
    "        return self.__final\n",
    "    \n",
    "#출력함수\n",
    "score = Score(50,75)\n",
    "print((score.mid + score.final)/2)"
   ]
  },
  {
   "cell_type": "code",
   "execution_count": null,
   "metadata": {},
   "outputs": [],
   "source": []
  },
  {
   "cell_type": "code",
   "execution_count": null,
   "metadata": {},
   "outputs": [],
   "source": []
  },
  {
   "cell_type": "code",
   "execution_count": 8,
   "metadata": {},
   "outputs": [
    {
     "name": "stdout",
     "output_type": "stream",
     "text": [
      "gas 2 small\n"
     ]
    }
   ],
   "source": [
    "#Q2. Car클래스를 이용해서 Bike 클래스 제작\n",
    "class Car():\n",
    "    def __init__(self,fuel,wheels):\n",
    "        self.fuel = fuel\n",
    "        self.wheels = wheels\n",
    "class Bike(Car):\n",
    "    #TODO\n",
    "    def __init__(self,fuel,wheels,size):\n",
    "        super().__init__(fuel,wheels)\n",
    "        self.size = size\n",
    "    \n",
    "bike = Bike(\"gas\",2,\"small\")\n",
    "print(bike.fuel,bike.wheels,bike.size)\n"
   ]
  },
  {
   "cell_type": "code",
   "execution_count": 14,
   "metadata": {},
   "outputs": [
    {
     "name": "stdout",
     "output_type": "stream",
     "text": [
      "[['73', '80', '75', '152'], ['93', '88', '93', '185'], ['89', '91', '90', '180'], ['96', '98', '100', '196'], ['73', '66', '70', '142'], ['53', '46', '55', '101'], ['69', '74', '77', '149'], ['47', '56', '60', '115'], ['87', '79', '90', '175'], ['79', '70', '88', '164'], ['69', '70', '73', '141'], ['70', '65', '74', '141'], ['93', '95', '91', '184'], ['79', '80', '73', '152'], ['70', '73', '78', '148'], ['93', '89', '96', '192'], ['78', '75', '68', '147'], ['81', '90', '93', '183'], ['88', '92', '86', '177'], ['78', '83', '77', '159'], ['82', '86', '90', '177'], ['86', '82', '89', '175'], ['78', '83', '85', '175'], ['76', '83', '71', '149'], ['96', '93', '95', '192']]\n"
     ]
    }
   ],
   "source": [
    "#Q3. CSV파일 데이터 --> 리스트\n",
    "file_path = \"./datas/data-01-test-score.csv\"\n",
    "\n",
    "def read_file(file_path):\n",
    "    #TODO\n",
    "    contents_list = []\n",
    "    with open(\"./datas/data-01-test-score.csv\",\"r\") as f:\n",
    "        while True:\n",
    "            line = f.readline()\n",
    "            if not line:\n",
    "                break\n",
    "            contents_list.append(list(line.replace(\"\\n\",\"\").split(\",\")))\n",
    "    return contents_list\n",
    "        # contents_list = f.readlines()\n",
    "        # return contents_list\n",
    "    \n",
    "print(read_file(file_path))"
   ]
  },
  {
   "cell_type": "code",
   "execution_count": 19,
   "metadata": {},
   "outputs": [
    {
     "name": "stdout",
     "output_type": "stream",
     "text": [
      "[[73, 80, 75, 152], [93, 88, 93, 185], [89, 91, 90, 180], [96, 98, 100, 196], [73, 66, 70, 142], [53, 46, 55, 101], [69, 74, 77, 149], [47, 56, 60, 115], [87, 79, 90, 175], [79, 70, 88, 164], [69, 70, 73, 141], [70, 65, 74, 141], [93, 95, 91, 184], [79, 80, 73, 152], [70, 73, 78, 148], [93, 89, 96, 192], [78, 75, 68, 147], [81, 90, 93, 183], [88, 92, 86, 177], [78, 83, 77, 159], [82, 86, 90, 177], [86, 82, 89, 175], [78, 83, 85, 175], [76, 83, 71, 149], [96, 93, 95, 192]]\n",
      "[380, 459, 450, 490, 351, 255, 369, 278, 431, 401, 353, 350, 463, 384, 369, 470, 368, 447, 443, 397, 435, 432, 421, 379, 476]\n"
     ]
    }
   ],
   "source": [
    "#Q4. Q3을 클래스로 구성\n",
    "file_path = \"./datas/data-01-test-score.csv\"\n",
    "\n",
    "class ReadCSV():\n",
    "    def __init__(self,file_path):\n",
    "        #TODO\n",
    "        self.f = open(file_path,\"r\")\n",
    "        self.contents_list = []\n",
    "    def read_file(self):\n",
    "        #TODO\n",
    "        while True:\n",
    "            line = self.f.readline().replace(\"\\n\",\"\")\n",
    "            if not line:\n",
    "                break\n",
    "            self.contents_list.append(list(map(int,line.split(\",\"))))\n",
    "        return self.contents_list\n",
    "        \n",
    "    def merge_list(self):\n",
    "        #TODO\n",
    "        return list(map(sum,self.contents_list))\n",
    "        \n",
    "read_csv = ReadCSV(file_path)\n",
    "print(read_csv.read_file())\n",
    "print(read_csv.merge_list())"
   ]
  },
  {
   "cell_type": "code",
   "execution_count": 27,
   "metadata": {},
   "outputs": [
    {
     "name": "stdout",
     "output_type": "stream",
     "text": [
      "[63.75, 69.5, 87.5, 87.75, 88.25, 92.0, 92.25, 92.25, 94.75, 95.0, 96.0, 99.25, 100.25, 105.25, 107.75, 108.0, 108.75, 110.75, 111.75, 112.5, 114.75, 115.75, 117.5, 119.0, 122.5]\n"
     ]
    }
   ],
   "source": [
    "#Q5. 이전에 구현한 클래스에서 merge_list의 함수 동작 변경\n",
    "# 단순 합계가 아닌 평균을 구하는 함수로\n",
    "\n",
    "#Q4. Q3을 클래스로 구성\n",
    "file_path = \"./datas/data-01-test-score.csv\"\n",
    "\n",
    "class ReadCSV():\n",
    "    def __init__(self,file_path):\n",
    "        #TODO\n",
    "        self.f = open(file_path,\"r\")\n",
    "        self.contents_list = []\n",
    "    def read_file(self):\n",
    "        #TODO\n",
    "        while True:\n",
    "            line = self.f.readline().replace(\"\\n\",\"\")\n",
    "            if not line:\n",
    "                break\n",
    "            self.contents_list.append(list(map(int,line.split(\",\"))))\n",
    "        return self.contents_list\n",
    "        \n",
    "    def merge_list(self):\n",
    "        #TODO\n",
    "        self.read_file()\n",
    "        return sorted(list(map(lambda x : sum(x)/len(x),self.contents_list)))\n",
    "        \n",
    "read_csv = ReadCSV(file_path)\n",
    "# print(read_csv.read_file())\n",
    "print(read_csv.merge_list())"
   ]
  },
  {
   "cell_type": "code",
   "execution_count": null,
   "metadata": {},
   "outputs": [],
   "source": []
  }
 ],
 "metadata": {
  "kernelspec": {
   "display_name": "Python 3",
   "language": "python",
   "name": "python3"
  },
  "language_info": {
   "codemirror_mode": {
    "name": "ipython",
    "version": 3
   },
   "file_extension": ".py",
   "mimetype": "text/x-python",
   "name": "python",
   "nbconvert_exporter": "python",
   "pygments_lexer": "ipython3",
   "version": "3.9.10 (main, Jan 15 2022, 11:40:53) \n[Clang 13.0.0 (clang-1300.0.29.3)]"
  },
  "orig_nbformat": 4,
  "vscode": {
   "interpreter": {
    "hash": "b0fa6594d8f4cbf19f97940f81e996739fb7646882a419484c72d19e05852a7e"
   }
  }
 },
 "nbformat": 4,
 "nbformat_minor": 2
}
