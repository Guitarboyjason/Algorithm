{
 "cells": [
  {
   "cell_type": "code",
   "execution_count": 1,
   "metadata": {},
   "outputs": [
    {
     "name": "stdout",
     "output_type": "stream",
     "text": [
      "[1, 5, 7, 15, 29]\n"
     ]
    }
   ],
   "source": [
    "# Q1\n",
    "# num_list가 홀수인 데이터만 출력하도록 하는 함수\n",
    "\n",
    "num_list = [1,5,7,15,16,22,28,29]\n",
    "\n",
    "def get_odd_num(num_list):\n",
    "    # TODO\n",
    "    return [i for i in num_list if i%2 == 1]\n",
    "    \n",
    "print(get_odd_num(num_list))"
   ]
  },
  {
   "cell_type": "code",
   "execution_count": 7,
   "metadata": {},
   "outputs": [
    {
     "name": "stdout",
     "output_type": "stream",
     "text": [
      "Where there is a will there is a way\n"
     ]
    }
   ],
   "source": [
    "# Q2\n",
    "# String 문장을 역순으로 출력하는 함수\n",
    "\n",
    "sentence = \"way a is there will a is there Where\"\n",
    "\n",
    "def reverse_sentence(sentence):\n",
    "    # TODO\n",
    "    return \" \".join(sentence.split()[::-1])\n",
    "print(reverse_sentence(sentence))"
   ]
  },
  {
   "cell_type": "code",
   "execution_count": 6,
   "metadata": {},
   "outputs": [
    {
     "name": "stdout",
     "output_type": "stream",
     "text": [
      "1 번, 평균 : 100.0\n",
      "2 번, 평균 : 92.5\n",
      "3 번, 평균 : 57.5\n",
      "4 번, 평균 : 77.5\n",
      "5 번, 평균 : 70.0\n"
     ]
    }
   ],
   "source": [
    "#Q3\n",
    "#각 학생들의 평균 점수를 출력하는 함수\n",
    "\n",
    "score = [(100,100),(95,90),(55,60),(75,80),(70,70)]\n",
    "\n",
    "def get_avg(score):\n",
    "    # TODO\n",
    "    for index, i in enumerate(score):\n",
    "        print(\"{} 번, 평균 : {}\".format(index+1,sum(i)/2))\n",
    "get_avg(score)"
   ]
  },
  {
   "cell_type": "code",
   "execution_count": 8,
   "metadata": {},
   "outputs": [
    {
     "name": "stdout",
     "output_type": "stream",
     "text": [
      "{'사과': 35, '배': 30, '감': 35, '포도': 10, '귤': 25}\n"
     ]
    }
   ],
   "source": [
    "#Q4\n",
    "#두 개의 딕셔너리 객체를 합쳐 출력하는 함수\n",
    "\n",
    "dict_first = {\"사과\":30,\"배\":15,\"감\":10,\"포도\":10}\n",
    "dict_second = {\"사과\":5,\"배\":15,\"감\":25,\"귤\":25}\n",
    "\n",
    "def merge_dict(dict_first,dict_second):\n",
    "    #TODO\n",
    "    merged_dict = dict_first\n",
    "    for i in dict_second:\n",
    "        if i in merged_dict:\n",
    "            merged_dict[i] += dict_second[i]\n",
    "        else:\n",
    "            merged_dict[i] = dict_second[i]\n",
    "    print(merged_dict)\n",
    "    \n",
    "merge_dict(dict_first,dict_second)"
   ]
  },
  {
   "cell_type": "code",
   "execution_count": 5,
   "metadata": {},
   "outputs": [
    {
     "name": "stdout",
     "output_type": "stream",
     "text": [
      "['cat', 'dog', 'cow']\n"
     ]
    }
   ],
   "source": [
    "#Q5\n",
    "#string에서 숫자를 제거한 후 string만 남은 리스트 출력\n",
    "import re\n",
    "\n",
    "def find_string(inputs):\n",
    "    #TODO\n",
    "    return re.findall(\"[a-z]+\",inputs)\n",
    "\n",
    "\n",
    "inputs = \"cat32dog16cow5\"\n",
    "string_list = find_string(inputs)\n",
    "print(string_list)"
   ]
  }
 ],
 "metadata": {
  "kernelspec": {
   "display_name": "Python 3",
   "language": "python",
   "name": "python3"
  },
  "language_info": {
   "codemirror_mode": {
    "name": "ipython",
    "version": 3
   },
   "file_extension": ".py",
   "mimetype": "text/x-python",
   "name": "python",
   "nbconvert_exporter": "python",
   "pygments_lexer": "ipython3",
   "version": "3.9.10"
  },
  "orig_nbformat": 4,
  "vscode": {
   "interpreter": {
    "hash": "b0fa6594d8f4cbf19f97940f81e996739fb7646882a419484c72d19e05852a7e"
   }
  }
 },
 "nbformat": 4,
 "nbformat_minor": 2
}
