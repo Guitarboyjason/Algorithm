{
 "cells": [
  {
   "cell_type": "code",
   "execution_count": null,
   "metadata": {},
   "outputs": [],
   "source": [
    "from collections import deque\n",
    "N,M = map(int,input().split())\n",
    "graph = dict()\n",
    "for i in range(N):\n",
    "    graph[i+1] = []\n",
    "for _ in range(M):\n",
    "    A,B = map(int,input().split())\n",
    "    graph[B].append(A)\n",
    "\n",
    "\n",
    "hacking_cnt = [-1]\n",
    "for i in range(1,N+1):\n",
    "    hacking_possible = set()\n",
    "    queue = deque()\n",
    "\n",
    "    # print(hacking_possible)\n",
    "    cnt = 0 \n",
    "    queue.append(i)\n",
    "    while queue:\n",
    "        node = queue.popleft()\n",
    "        # print(node)\n",
    "        # print(hacking_possible)\n",
    "        if node not in hacking_possible:\n",
    "            hacking_possible.add(node)\n",
    "            queue.extend(graph[node])\n",
    "            cnt += 1\n",
    "    hacking_cnt.append(cnt)    \n",
    "# print(hacking_cnt)\n",
    "answer = [index for index,i in enumerate(hacking_cnt) if i == max(hacking_cnt)]\n",
    "print(answer)"
   ]
  },
  {
   "cell_type": "code",
   "execution_count": 2,
   "metadata": {},
   "outputs": [
    {
     "name": "stdout",
     "output_type": "stream",
     "text": [
      "{1: [], 2: [], 3: [], 4: [], 5: []}\n"
     ]
    }
   ],
   "source": [
    "N,M = map(int,input().split())\n",
    "graph = dict({i+1:[]for i in range(N)})\n",
    "\n",
    "# print(graph)\n"
   ]
  }
 ],
 "metadata": {
  "kernelspec": {
   "display_name": "Python 3",
   "language": "python",
   "name": "python3"
  },
  "language_info": {
   "codemirror_mode": {
    "name": "ipython",
    "version": 3
   },
   "file_extension": ".py",
   "mimetype": "text/x-python",
   "name": "python",
   "nbconvert_exporter": "python",
   "pygments_lexer": "ipython3",
   "version": "3.9.10"
  },
  "orig_nbformat": 4,
  "vscode": {
   "interpreter": {
    "hash": "b0fa6594d8f4cbf19f97940f81e996739fb7646882a419484c72d19e05852a7e"
   }
  }
 },
 "nbformat": 4,
 "nbformat_minor": 2
}
